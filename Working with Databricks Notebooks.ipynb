{
 "cells": [
  {
   "cell_type": "markdown",
   "metadata": {
    "application/vnd.databricks.v1+cell": {
     "cellMetadata": {},
     "inputWidgets": {},
     "nuid": "c300f855-503e-4bc8-97bd-68852e107ed1",
     "showTitle": false,
     "tableResultSettingsMap": {},
     "title": ""
    }
   },
   "source": [
    "## **Define a dictionary and convert it into a PySpark DataFrame**"
   ]
  },
  {
   "cell_type": "code",
   "execution_count": 0,
   "metadata": {
    "application/vnd.databricks.v1+cell": {
     "cellMetadata": {
      "byteLimit": 2048000,
      "rowLimit": 10000
     },
     "inputWidgets": {},
     "nuid": "1f0bbc9f-f790-48e4-9a1b-00ea7f7c93f4",
     "showTitle": false,
     "tableResultSettingsMap": {},
     "title": ""
    }
   },
   "outputs": [
    {
     "output_type": "stream",
     "name": "stdout",
     "output_type": "stream",
     "text": [
      "+---+---------+-------+\n|Age|     City|   Name|\n+---+---------+-------+\n| 25|    Delhi|  Alice|\n| 30|   Mumbai|    Bob|\n| 28|Bangalore|Charlie|\n+---+---------+-------+\n\n"
     ]
    }
   ],
   "source": [
    "data = [\n",
    "    {\"Name\": \"Alice\", \"Age\": 25, \"City\": \"Delhi\"},\n",
    "    {\"Name\": \"Bob\", \"Age\": 30, \"City\": \"Mumbai\"},\n",
    "    {\"Name\": \"Charlie\", \"Age\": 28, \"City\": \"Bangalore\"}\n",
    "]\n",
    "\n",
    "# Convert to PySpark DataFrame\n",
    "df = spark.createDataFrame(data)\n",
    "df.show()"
   ]
  }
 ],
 "metadata": {
  "application/vnd.databricks.v1+notebook": {
   "computePreferences": null,
   "dashboards": [],
   "environmentMetadata": {
    "base_environment": "",
    "environment_version": "1"
   },
   "inputWidgetPreferences": null,
   "language": "python",
   "notebookMetadata": {
    "pythonIndentUnit": 4
   },
   "notebookName": "Working with Databricks Notebooks",
   "widgets": {}
  }
 },
 "nbformat": 4,
 "nbformat_minor": 0
}