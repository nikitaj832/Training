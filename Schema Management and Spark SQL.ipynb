{
 "cells": [
  {
   "cell_type": "markdown",
   "metadata": {
    "application/vnd.databricks.v1+cell": {
     "cellMetadata": {},
     "inputWidgets": {},
     "nuid": "f93be0de-7b61-438e-9feb-ae43f7f1df67",
     "showTitle": false,
     "tableResultSettingsMap": {},
     "title": ""
    }
   },
   "source": [
    "###  **Inferring schema from files and handling schema changes**"
   ]
  },
  {
   "cell_type": "code",
   "execution_count": 0,
   "metadata": {
    "application/vnd.databricks.v1+cell": {
     "cellMetadata": {
      "byteLimit": 2048000,
      "rowLimit": 10000
     },
     "inputWidgets": {},
     "nuid": "d86e32e0-3308-4031-85f9-7c4097bcc45f",
     "showTitle": false,
     "tableResultSettingsMap": {},
     "title": ""
    }
   },
   "outputs": [
    {
     "output_type": "stream",
     "name": "stdout",
     "output_type": "stream",
     "text": [
      "root\n |-- order_id: string (nullable = true)\n |-- product: string (nullable = true)\n |-- quantity_ordered: string (nullable = true)\n |-- price_each: string (nullable = true)\n |-- order_date: string (nullable = true)\n |-- purchase_address: string (nullable = true)\n\n+--------+--------------------+----------------+----------+--------------+--------------------+\n|order_id|             product|quantity_ordered|price_each|    order_date|    purchase_address|\n+--------+--------------------+----------------+----------+--------------+--------------------+\n|  295665|  Macbook Pro Laptop|               1|      1700|12/30/19 00:01|136 Church St, Ne...|\n|  295666|  LG Washing Machine|               1|     600.0|12/29/19 07:03|562 2nd St, New Y...|\n|  295667|USB-C Charging Cable|               1|     11.95|12/12/19 18:21|277 Main St, New ...|\n|  295668|    27in FHD Monitor|               1|    149.99|12/22/19 15:13|410 6th St, San F...|\n|  295669|USB-C Charging Cable|               1|     11.95|12/18/19 12:38|43 Hill St, Atlan...|\n+--------+--------------------+----------------+----------+--------------+--------------------+\nonly showing top 5 rows\n\n"
     ]
    }
   ],
   "source": [
    "#Read the original CSV file and infer schema\n",
    "df_v1 = spark.read.option(\"header\", True).option(\"inferSchema\", True).csv(\"dbfs:/FileStore/shared_uploads/21embit039@mlvti.ac.in/sales_data-3.csv\")\n",
    "df_v1 = df_v1.toDF(*[c.strip().lower().replace(\" \", \"_\") for c in df_v1.columns])\n",
    "df_v1.printSchema()\n",
    "df_v1.show(5)\n"
   ]
  },
  {
   "cell_type": "code",
   "execution_count": 0,
   "metadata": {
    "application/vnd.databricks.v1+cell": {
     "cellMetadata": {
      "byteLimit": 2048000,
      "rowLimit": 10000
     },
     "inputWidgets": {},
     "nuid": "7f254d9c-d1da-4fda-a831-57d3b35a028e",
     "showTitle": false,
     "tableResultSettingsMap": {},
     "title": ""
    }
   },
   "outputs": [
    {
     "output_type": "stream",
     "name": "stdout",
     "output_type": "stream",
     "text": [
      "root\n |-- order_id: long (nullable = true)\n |-- product: string (nullable = true)\n |-- quantity_ordered: long (nullable = true)\n |-- price_each: double (nullable = true)\n |-- order_date: string (nullable = true)\n |-- purchase_address: string (nullable = true)\n |-- discount: double (nullable = true)\n\n+--------+-------+----------------+----------+----------+----------------+--------+\n|order_id|product|quantity_ordered|price_each|order_date|purchase_address|discount|\n+--------+-------+----------------+----------+----------+----------------+--------+\n|     101| Laptop|               2|   50000.0|2024-06-01|           Delhi|  5000.0|\n|     102|  Phone|               3|   20000.0|2024-06-02|          Mumbai|  2000.0|\n+--------+-------+----------------+----------+----------+----------------+--------+\n\n"
     ]
    }
   ],
   "source": [
    "from pyspark.sql import Row\n",
    "\n",
    "# New data with additional 'discount' column\n",
    "data_new = [\n",
    "    Row(order_id=101, product=\"Laptop\", quantity_ordered=2, price_each=50000.0, order_date=\"2024-06-01\", purchase_address=\"Delhi\", discount=5000.0),\n",
    "    Row(order_id=102, product=\"Phone\", quantity_ordered=3, price_each=20000.0, order_date=\"2024-06-02\", purchase_address=\"Mumbai\", discount=2000.0)\n",
    "]\n",
    "\n",
    "df_v2 = spark.createDataFrame(data_new)\n",
    "df_v2.printSchema()\n",
    "df_v2.show()\n"
   ]
  },
  {
   "cell_type": "code",
   "execution_count": 0,
   "metadata": {
    "application/vnd.databricks.v1+cell": {
     "cellMetadata": {
      "byteLimit": 2048000,
      "rowLimit": 10000
     },
     "inputWidgets": {},
     "nuid": "dfa1bd4f-217b-47b9-adc0-c7686b769a18",
     "showTitle": false,
     "tableResultSettingsMap": {},
     "title": ""
    }
   },
   "outputs": [],
   "source": [
    "from pyspark.sql.functions import lit\n",
    "\n",
    "# Add missing column 'discount' with null values to df_v1\n",
    "df_v1_aligned = df_v1.withColumn(\"discount\", lit(None).cast(\"double\"))\n"
   ]
  },
  {
   "cell_type": "code",
   "execution_count": 0,
   "metadata": {
    "application/vnd.databricks.v1+cell": {
     "cellMetadata": {
      "byteLimit": 2048000,
      "rowLimit": 10000
     },
     "inputWidgets": {},
     "nuid": "e16591c3-b7df-46af-9716-c2028ac492e0",
     "showTitle": false,
     "tableResultSettingsMap": {},
     "title": ""
    }
   },
   "outputs": [
    {
     "output_type": "stream",
     "name": "stdout",
     "output_type": "stream",
     "text": [
      "root\n |-- order_id: string (nullable = true)\n |-- product: string (nullable = true)\n |-- quantity_ordered: string (nullable = true)\n |-- price_each: string (nullable = true)\n |-- order_date: string (nullable = true)\n |-- purchase_address: string (nullable = true)\n |-- discount: double (nullable = true)\n\n+--------+--------------------+----------------+----------+--------------+--------------------+--------+\n|order_id|             product|quantity_ordered|price_each|    order_date|    purchase_address|discount|\n+--------+--------------------+----------------+----------+--------------+--------------------+--------+\n|  295665|  Macbook Pro Laptop|               1|      1700|12/30/19 00:01|136 Church St, Ne...|    null|\n|  295666|  LG Washing Machine|               1|     600.0|12/29/19 07:03|562 2nd St, New Y...|    null|\n|  295667|USB-C Charging Cable|               1|     11.95|12/12/19 18:21|277 Main St, New ...|    null|\n|  295668|    27in FHD Monitor|               1|    149.99|12/22/19 15:13|410 6th St, San F...|    null|\n|  295669|USB-C Charging Cable|               1|     11.95|12/18/19 12:38|43 Hill St, Atlan...|    null|\n+--------+--------------------+----------------+----------+--------------+--------------------+--------+\nonly showing top 5 rows\n\n"
     ]
    }
   ],
   "source": [
    "#Merge both DataFrames using unionByName()\n",
    "df_merged = df_v1_aligned.unionByName(df_v2)\n",
    "df_merged.printSchema()\n",
    "df_merged.show(5)\n"
   ]
  },
  {
   "cell_type": "markdown",
   "metadata": {
    "application/vnd.databricks.v1+cell": {
     "cellMetadata": {},
     "inputWidgets": {},
     "nuid": "fcdc6721-0873-4953-bea1-4b03acd89e8b",
     "showTitle": false,
     "tableResultSettingsMap": {},
     "title": ""
    }
   },
   "source": [
    "### **Use SQL to query a DataFrame directly (e.g., SELECT * FROM ...)**"
   ]
  },
  {
   "cell_type": "code",
   "execution_count": 0,
   "metadata": {
    "application/vnd.databricks.v1+cell": {
     "cellMetadata": {
      "byteLimit": 2048000,
      "rowLimit": 10000
     },
     "inputWidgets": {},
     "nuid": "beedb8b7-9d2d-4a72-b723-5e8a730e58a9",
     "showTitle": false,
     "tableResultSettingsMap": {},
     "title": ""
    }
   },
   "outputs": [
    {
     "output_type": "stream",
     "name": "stdout",
     "output_type": "stream",
     "text": [
      "+---+-------+---+\n| id|   name|age|\n+---+-------+---+\n|  1|  Alice| 25|\n|  2|    Bob| 30|\n|  3|Charlie| 22|\n+---+-------+---+\n\n"
     ]
    }
   ],
   "source": [
    "#Create a simple DataFrame\n",
    "\n",
    "data = [(1, \"Alice\", 25), (2, \"Bob\", 30), (3, \"Charlie\", 22)]\n",
    "columns = [\"id\", \"name\", \"age\"]\n",
    "\n",
    "df = spark.createDataFrame(data, columns)\n",
    "df.show()\n"
   ]
  },
  {
   "cell_type": "code",
   "execution_count": 0,
   "metadata": {
    "application/vnd.databricks.v1+cell": {
     "cellMetadata": {
      "byteLimit": 2048000,
      "rowLimit": 10000
     },
     "inputWidgets": {},
     "nuid": "8de1259f-9067-4c3c-9d4c-304d8384c423",
     "showTitle": false,
     "tableResultSettingsMap": {},
     "title": ""
    }
   },
   "outputs": [],
   "source": [
    "#Create a temporary view of the DataFrame\n",
    "df.createOrReplaceTempView(\"people\")\n"
   ]
  },
  {
   "cell_type": "code",
   "execution_count": 0,
   "metadata": {
    "application/vnd.databricks.v1+cell": {
     "cellMetadata": {
      "byteLimit": 2048000,
      "implicitDf": true,
      "rowLimit": 10000
     },
     "inputWidgets": {},
     "nuid": "07df845c-0936-41f4-b306-846ee5ae1635",
     "showTitle": false,
     "tableResultSettingsMap": {},
     "title": ""
    }
   },
   "outputs": [
    {
     "output_type": "display_data",
     "data": {
      "text/html": [
       "<style scoped>\n",
       "  .table-result-container {\n",
       "    max-height: 300px;\n",
       "    overflow: auto;\n",
       "  }\n",
       "  table, th, td {\n",
       "    border: 1px solid black;\n",
       "    border-collapse: collapse;\n",
       "  }\n",
       "  th, td {\n",
       "    padding: 5px;\n",
       "  }\n",
       "  th {\n",
       "    text-align: left;\n",
       "  }\n",
       "</style><div class='table-result-container'><table class='table-result'><thead style='background-color: white'><tr><th>id</th><th>name</th></tr></thead><tbody><tr><td>1</td><td>Alice</td></tr><tr><td>3</td><td>Charlie</td></tr></tbody></table></div>"
      ]
     },
     "metadata": {
      "application/vnd.databricks.v1+output": {
       "addedWidgets": {},
       "aggData": [],
       "aggError": "",
       "aggOverflow": false,
       "aggSchema": [],
       "aggSeriesLimitReached": false,
       "aggType": "",
       "arguments": {},
       "columnCustomDisplayInfos": {},
       "data": [
        [
         1,
         "Alice"
        ],
        [
         3,
         "Charlie"
        ]
       ],
       "datasetInfos": [],
       "dbfsResultPath": null,
       "isJsonSchema": true,
       "metadata": {},
       "overflow": false,
       "plotOptions": {
        "customPlotOptions": {},
        "displayType": "table",
        "pivotAggregation": null,
        "pivotColumns": null,
        "xColumns": null,
        "yColumns": null
       },
       "removedWidgets": [],
       "schema": [
        {
         "metadata": "{}",
         "name": "id",
         "type": "\"long\""
        },
        {
         "metadata": "{}",
         "name": "name",
         "type": "\"string\""
        }
       ],
       "type": "table"
      }
     },
     "output_type": "display_data"
    }
   ],
   "source": [
    "%sql\n",
    "\n",
    "SELECT id, name FROM people WHERE age < 30\n"
   ]
  },
  {
   "cell_type": "markdown",
   "metadata": {
    "application/vnd.databricks.v1+cell": {
     "cellMetadata": {},
     "inputWidgets": {},
     "nuid": "156d4503-124c-4c28-a86d-6c7ce5f8a9e9",
     "showTitle": false,
     "tableResultSettingsMap": {},
     "title": ""
    }
   },
   "source": [
    "## **Simulate adding a new column to an existing DataFrame.**"
   ]
  },
  {
   "cell_type": "code",
   "execution_count": 0,
   "metadata": {
    "application/vnd.databricks.v1+cell": {
     "cellMetadata": {
      "byteLimit": 2048000,
      "rowLimit": 10000
     },
     "inputWidgets": {},
     "nuid": "5745c7e8-cb52-4a20-8607-cc4c68c36815",
     "showTitle": false,
     "tableResultSettingsMap": {},
     "title": ""
    }
   },
   "outputs": [
    {
     "output_type": "stream",
     "name": "stdout",
     "output_type": "stream",
     "text": [
      "+---+------+---+------+\n| id|  name|age|salary|\n+---+------+---+------+\n|101|Nikita| 28| 50000|\n|102|  Ravi| 35| 50000|\n|103| Anita| 22| 50000|\n+---+------+---+------+\n\nroot\n |-- id: long (nullable = true)\n |-- name: string (nullable = true)\n |-- age: long (nullable = true)\n |-- salary: integer (nullable = false)\n\n"
     ]
    }
   ],
   "source": [
    "from pyspark.sql.functions import lit\n",
    "\n",
    "# Sample data\n",
    "data = [\n",
    "    (101, \"Nikita\", 28),\n",
    "    (102, \"Ravi\", 35),\n",
    "    (103, \"Anita\", 22)\n",
    "]\n",
    "\n",
    "columns = [\"id\", \"name\", \"age\"]\n",
    "\n",
    "# Create DataFrame\n",
    "df = spark.createDataFrame(data, columns)\n",
    "\n",
    "# Add a new column 'salary' with a default value of 50000\n",
    "df_new = df.withColumn(\"salary\", lit(50000))\n",
    "\n",
    "# Show the updated DataFrame\n",
    "df_new.show()\n",
    "\n",
    "# Check schema to see the new column\n",
    "df_new.printSchema()\n"
   ]
  },
  {
   "cell_type": "markdown",
   "metadata": {
    "application/vnd.databricks.v1+cell": {
     "cellMetadata": {},
     "inputWidgets": {},
     "nuid": "943ba011-14f4-477f-85f6-bfdc33bb6475",
     "showTitle": false,
     "tableResultSettingsMap": {},
     "title": ""
    }
   },
   "source": [
    "## **Write SQL queries on DataFrames using spark.sql()**"
   ]
  },
  {
   "cell_type": "code",
   "execution_count": 0,
   "metadata": {
    "application/vnd.databricks.v1+cell": {
     "cellMetadata": {
      "byteLimit": 2048000,
      "rowLimit": 10000
     },
     "inputWidgets": {},
     "nuid": "e68b50ac-4ab3-4291-b3d0-321f7d6f791f",
     "showTitle": false,
     "tableResultSettingsMap": {},
     "title": ""
    }
   },
   "outputs": [
    {
     "output_type": "stream",
     "name": "stdout",
     "output_type": "stream",
     "text": [
      "+---+-------+---+\n| id|   name|age|\n+---+-------+---+\n|  1|  Alice| 25|\n|  2|    Bob| 30|\n|  3|Charlie| 22|\n+---+-------+---+\n\n+-----+---+\n| name|age|\n+-----+---+\n|Alice| 25|\n|  Bob| 30|\n+-----+---+\n\n+------------------+\n|           avg_age|\n+------------------+\n|25.666666666666668|\n+------------------+\n\n"
     ]
    }
   ],
   "source": [
    "# Select all rows\n",
    "result_all = spark.sql(\"SELECT * FROM people\")\n",
    "result_all.show()\n",
    "\n",
    "# Filter rows where age > 24\n",
    "result_filtered = spark.sql(\"SELECT name, age FROM people WHERE age > 24\")\n",
    "result_filtered.show()\n",
    "\n",
    "# Aggregate - average age\n",
    "result_avg = spark.sql(\"SELECT AVG(age) as avg_age FROM people\")\n",
    "result_avg.show()\n"
   ]
  },
  {
   "cell_type": "code",
   "execution_count": 0,
   "metadata": {
    "application/vnd.databricks.v1+cell": {
     "cellMetadata": {},
     "inputWidgets": {},
     "nuid": "3caf2769-9860-4f98-8266-5ad5077ed69f",
     "showTitle": false,
     "tableResultSettingsMap": {},
     "title": ""
    }
   },
   "outputs": [],
   "source": []
  }
 ],
 "metadata": {
  "application/vnd.databricks.v1+notebook": {
   "computePreferences": null,
   "dashboards": [],
   "environmentMetadata": {
    "base_environment": "",
    "environment_version": "1"
   },
   "inputWidgetPreferences": null,
   "language": "python",
   "notebookMetadata": {
    "mostRecentlyExecutedCommandWithImplicitDF": {
     "commandId": 1282707318736491,
     "dataframes": [
      "_sqldf"
     ]
    },
    "pythonIndentUnit": 4
   },
   "notebookName": "Schema Management and Spark SQL",
   "widgets": {}
  }
 },
 "nbformat": 4,
 "nbformat_minor": 0
}