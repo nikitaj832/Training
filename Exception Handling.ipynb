{
 "cells": [
  {
   "cell_type": "markdown",
   "id": "5eb899f6-60ab-4c3b-abff-4def99849f61",
   "metadata": {},
   "source": [
    "## Exception Handling"
   ]
  },
  {
   "cell_type": "code",
   "execution_count": 19,
   "id": "edcdd5cb-5164-4939-b7bb-ed5b86be931d",
   "metadata": {},
   "outputs": [
    {
     "name": "stdin",
     "output_type": "stream",
     "text": [
      "Enter a number:  0\n"
     ]
    },
    {
     "name": "stdout",
     "output_type": "stream",
     "text": [
      "You cannot divide by zero!\n"
     ]
    }
   ],
   "source": [
    "# Perform Exceptions if code occurred \n",
    "# Handling code exceptions with try and except \n",
    "try:\n",
    "    x = int(input(\"Enter a number: \"))\n",
    "    result = 100 / x\n",
    "    print(\"Result is:\", result)\n",
    "\n",
    "except ZeroDivisionError:\n",
    "    print(\"You cannot divide by zero!\")\n",
    "\n",
    "except ValueError:\n",
    "    print(\"Please enter a valid number!\")"
   ]
  },
  {
   "cell_type": "code",
   "execution_count": 15,
   "id": "216b7467-b38f-41e8-9ac8-0102b9196d05",
   "metadata": {},
   "outputs": [
    {
     "name": "stdin",
     "output_type": "stream",
     "text": [
      "Enter a number:  hy\n"
     ]
    },
    {
     "name": "stdout",
     "output_type": "stream",
     "text": [
      "Invalid input. Please enter a number.\n",
      "this will execute\n"
     ]
    }
   ],
   "source": [
    "# Ensuring a message is printed, regardless of whether an error occurs.\n",
    "\n",
    "try:\n",
    "    num = int(input(\"Enter a number: \"))\n",
    "    result = 10 / num\n",
    "    print(\"Result:\", result)\n",
    "\n",
    "except ZeroDivisionError:\n",
    "    print(\"Cannot divide by zero.\")\n",
    "\n",
    "except ValueError:\n",
    "    print(\"Invalid input. Please enter a number.\")\n",
    "\n",
    "finally:\n",
    "    print(\"this will execute\")\n"
   ]
  },
  {
   "cell_type": "markdown",
   "id": "d87107ef-4006-417d-bd16-c5df814e6533",
   "metadata": {},
   "source": [
    "## 1. Write code to perform division that could cause an error if the divisor is zero."
   ]
  },
  {
   "cell_type": "code",
   "execution_count": 24,
   "id": "a0a60296-25a8-4d56-8d85-ec14be584981",
   "metadata": {},
   "outputs": [
    {
     "name": "stdin",
     "output_type": "stream",
     "text": [
      "Enter numerator:  4.8\n",
      "Enter denominator:  0\n"
     ]
    },
    {
     "name": "stdout",
     "output_type": "stream",
     "text": [
      "Error: Cannot divide by zero.\n",
      "Division operation completed.\n"
     ]
    }
   ],
   "source": [
    "try:\n",
    "    numerator = float(input(\"Enter numerator: \"))\n",
    "    denominator = float(input(\"Enter denominator: \"))\n",
    "\n",
    "    result = numerator / denominator\n",
    "    print(\" Result:\", result)\n",
    "\n",
    "except ZeroDivisionError:\n",
    "    print(\"Error: Cannot divide by zero.\")\n",
    "\n",
    "except ValueError:\n",
    "    print(\"Error: Please enter valid numbers.\")\n",
    "\n",
    "finally:\n",
    "    print(\"Division operation completed.\")\n"
   ]
  },
  {
   "cell_type": "markdown",
   "id": "168ca86e-9462-4f6a-a25d-9eeef4649a98",
   "metadata": {},
   "source": [
    "## 2. Write code that tries to access an index of a string that may be out of range."
   ]
  },
  {
   "cell_type": "code",
   "execution_count": 29,
   "id": "e3cd8fa6-a1b6-489d-a1a7-8fdc1b074f83",
   "metadata": {},
   "outputs": [
    {
     "name": "stdin",
     "output_type": "stream",
     "text": [
      "Enter a string:  ABCD\n",
      "Enter an index to access:  5\n"
     ]
    },
    {
     "name": "stdout",
     "output_type": "stream",
     "text": [
      "Error: Index out of range. Please enter a valid index.\n",
      "String index access attempt completed.\n"
     ]
    }
   ],
   "source": [
    "try:\n",
    "    text = input(\"Enter a string: \")\n",
    "    index = int(input(\"Enter an index to access: \"))\n",
    "\n",
    "    print(\"Character at index\", index, \"is:\", text[index])\n",
    "\n",
    "except IndexError:\n",
    "    print(\"Error: Index out of range. Please enter a valid index.\")\n",
    "\n",
    "except ValueError:\n",
    "    print(\"Error: Please enter a valid number for index.\")\n",
    "\n",
    "finally:\n",
    "    print(\"String index access attempt completed.\")\n"
   ]
  },
  {
   "cell_type": "markdown",
   "id": "8f7261e6-ba1c-4d66-8190-2b419e209bc2",
   "metadata": {},
   "source": [
    "## 3. Use a finally block to print a message indicating that the operation is complete."
   ]
  },
  {
   "cell_type": "code",
   "execution_count": 34,
   "id": "7c5f3a14-8894-4419-9bff-417ca3ce7935",
   "metadata": {},
   "outputs": [
    {
     "name": "stdin",
     "output_type": "stream",
     "text": [
      "Enter the numerator:  78\n",
      "Enter the denominator:  7\n"
     ]
    },
    {
     "name": "stdout",
     "output_type": "stream",
     "text": [
      "Result is: 11.142857142857142\n",
      "peration complete,this message always prints.\n"
     ]
    }
   ],
   "source": [
    "try:\n",
    "    num1 = int(input(\"Enter the numerator: \"))\n",
    "    num2 = int(input(\"Enter the denominator: \"))\n",
    "    \n",
    "    result = num1 / num2\n",
    "    print(\"Result is:\", result)\n",
    "\n",
    "except ZeroDivisionError:\n",
    "    print(\"Error: Cannot divide by zero.\")\n",
    "\n",
    "except ValueError:\n",
    "    print(\"Error: Please enter valid numbers.\")\n",
    "\n",
    "finally:\n",
    "    print(\"peration complete,this message always prints.\")\n"
   ]
  },
  {
   "cell_type": "code",
   "execution_count": null,
   "id": "816fabc6-f70c-44cc-af63-b8f62e21a11d",
   "metadata": {},
   "outputs": [],
   "source": []
  }
 ],
 "metadata": {
  "kernelspec": {
   "display_name": "Python 3 (ipykernel)",
   "language": "python",
   "name": "python3"
  },
  "language_info": {
   "codemirror_mode": {
    "name": "ipython",
    "version": 3
   },
   "file_extension": ".py",
   "mimetype": "text/x-python",
   "name": "python",
   "nbconvert_exporter": "python",
   "pygments_lexer": "ipython3",
   "version": "3.11.7"
  }
 },
 "nbformat": 4,
 "nbformat_minor": 5
}
