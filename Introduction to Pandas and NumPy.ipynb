{
 "cells": [
  {
   "cell_type": "markdown",
   "id": "4fe40ae2-c5fb-4104-aac9-f8e641353891",
   "metadata": {},
   "source": [
    "## Introduction to Pandas and NumPy"
   ]
  },
  {
   "cell_type": "code",
   "execution_count": 28,
   "id": "bff1dd9f-d417-4825-9196-7857c3b1209a",
   "metadata": {},
   "outputs": [],
   "source": [
    "import pandas as pd\n",
    "import numpy as np"
   ]
  },
  {
   "cell_type": "code",
   "execution_count": 62,
   "id": "02f0e4b4-fee1-4103-88b4-1198ab0c03fc",
   "metadata": {},
   "outputs": [],
   "source": [
    "# load the data\n",
    "df=pd.read_csv(\"C:\\\\Users\\\\KMC\\\\Desktop\\\\pandas\\\\titanic.csv\")"
   ]
  },
  {
   "cell_type": "code",
   "execution_count": 64,
   "id": "eff0c03b-e42d-4066-b3e9-1d1f5cffb42b",
   "metadata": {},
   "outputs": [
    {
     "name": "stdout",
     "output_type": "stream",
     "text": [
      "   PassengerId  Survived  Pclass  \\\n",
      "0          892         0       3   \n",
      "1          893         1       3   \n",
      "2          894         0       2   \n",
      "3          895         0       3   \n",
      "4          896         1       3   \n",
      "\n",
      "                                           Name     Sex   Age  SibSp  Parch  \\\n",
      "0                              Kelly, Mr. James    male  34.5      0      0   \n",
      "1              Wilkes, Mrs. James (Ellen Needs)  female  47.0      1      0   \n",
      "2                     Myles, Mr. Thomas Francis    male  62.0      0      0   \n",
      "3                              Wirz, Mr. Albert    male  27.0      0      0   \n",
      "4  Hirvonen, Mrs. Alexander (Helga E Lindqvist)  female  22.0      1      1   \n",
      "\n",
      "    Ticket     Fare Cabin Embarked  \n",
      "0   330911   7.8292   NaN        Q  \n",
      "1   363272   7.0000   NaN        S  \n",
      "2   240276   9.6875   NaN        Q  \n",
      "3   315154   8.6625   NaN        S  \n",
      "4  3101298  12.2875   NaN        S  \n"
     ]
    }
   ],
   "source": [
    "# Explore the Data\n",
    "print(df.head()) "
   ]
  },
  {
   "cell_type": "code",
   "execution_count": 66,
   "id": "6487033e-ea3b-4c75-97fd-51c08335edcb",
   "metadata": {},
   "outputs": [
    {
     "name": "stdout",
     "output_type": "stream",
     "text": [
      "<class 'pandas.core.frame.DataFrame'>\n",
      "RangeIndex: 418 entries, 0 to 417\n",
      "Data columns (total 12 columns):\n",
      " #   Column       Non-Null Count  Dtype  \n",
      "---  ------       --------------  -----  \n",
      " 0   PassengerId  418 non-null    int64  \n",
      " 1   Survived     418 non-null    int64  \n",
      " 2   Pclass       418 non-null    int64  \n",
      " 3   Name         418 non-null    object \n",
      " 4   Sex          418 non-null    object \n",
      " 5   Age          332 non-null    float64\n",
      " 6   SibSp        418 non-null    int64  \n",
      " 7   Parch        418 non-null    int64  \n",
      " 8   Ticket       418 non-null    object \n",
      " 9   Fare         417 non-null    float64\n",
      " 10  Cabin        91 non-null     object \n",
      " 11  Embarked     418 non-null    object \n",
      "dtypes: float64(2), int64(5), object(5)\n",
      "memory usage: 39.3+ KB\n",
      "None\n"
     ]
    }
   ],
   "source": [
    "print(df.info())"
   ]
  },
  {
   "cell_type": "code",
   "execution_count": 74,
   "id": "818d2cf2-45d2-4700-a715-c71839020cfb",
   "metadata": {},
   "outputs": [
    {
     "data": {
      "text/html": [
       "<div>\n",
       "<style scoped>\n",
       "    .dataframe tbody tr th:only-of-type {\n",
       "        vertical-align: middle;\n",
       "    }\n",
       "\n",
       "    .dataframe tbody tr th {\n",
       "        vertical-align: top;\n",
       "    }\n",
       "\n",
       "    .dataframe thead th {\n",
       "        text-align: right;\n",
       "    }\n",
       "</style>\n",
       "<table border=\"1\" class=\"dataframe\">\n",
       "  <thead>\n",
       "    <tr style=\"text-align: right;\">\n",
       "      <th></th>\n",
       "      <th>PassengerId</th>\n",
       "      <th>Survived</th>\n",
       "      <th>Pclass</th>\n",
       "      <th>Name</th>\n",
       "      <th>Sex</th>\n",
       "      <th>Age</th>\n",
       "      <th>SibSp</th>\n",
       "      <th>Parch</th>\n",
       "      <th>Ticket</th>\n",
       "      <th>Fare</th>\n",
       "      <th>Cabin</th>\n",
       "      <th>Embarked</th>\n",
       "    </tr>\n",
       "  </thead>\n",
       "  <tbody>\n",
       "    <tr>\n",
       "      <th>101</th>\n",
       "      <td>993</td>\n",
       "      <td>0</td>\n",
       "      <td>2</td>\n",
       "      <td>Weisz, Mr. Leopold</td>\n",
       "      <td>male</td>\n",
       "      <td>27.0</td>\n",
       "      <td>1</td>\n",
       "      <td>0</td>\n",
       "      <td>228414</td>\n",
       "      <td>26.00</td>\n",
       "      <td>NaN</td>\n",
       "      <td>S</td>\n",
       "    </tr>\n",
       "    <tr>\n",
       "      <th>34</th>\n",
       "      <td>926</td>\n",
       "      <td>0</td>\n",
       "      <td>1</td>\n",
       "      <td>Mock, Mr. Philipp Edmund</td>\n",
       "      <td>male</td>\n",
       "      <td>30.0</td>\n",
       "      <td>1</td>\n",
       "      <td>0</td>\n",
       "      <td>13236</td>\n",
       "      <td>57.75</td>\n",
       "      <td>C78</td>\n",
       "      <td>C</td>\n",
       "    </tr>\n",
       "  </tbody>\n",
       "</table>\n",
       "</div>"
      ],
      "text/plain": [
       "     PassengerId  Survived  Pclass                      Name   Sex   Age  \\\n",
       "101          993         0       2        Weisz, Mr. Leopold  male  27.0   \n",
       "34           926         0       1  Mock, Mr. Philipp Edmund  male  30.0   \n",
       "\n",
       "     SibSp  Parch  Ticket   Fare Cabin Embarked  \n",
       "101      1      0  228414  26.00   NaN        S  \n",
       "34       1      0   13236  57.75   C78        C  "
      ]
     },
     "execution_count": 74,
     "metadata": {},
     "output_type": "execute_result"
    }
   ],
   "source": [
    "df.sample(2)"
   ]
  },
  {
   "cell_type": "code",
   "execution_count": 77,
   "id": "0a121170-6064-492d-9022-f91c7f09ad9c",
   "metadata": {},
   "outputs": [
    {
     "name": "stdout",
     "output_type": "stream",
     "text": [
      "PassengerId      0\n",
      "Survived         0\n",
      "Pclass           0\n",
      "Name             0\n",
      "Sex              0\n",
      "Age             86\n",
      "SibSp            0\n",
      "Parch            0\n",
      "Ticket           0\n",
      "Fare             1\n",
      "Cabin          327\n",
      "Embarked         0\n",
      "dtype: int64\n"
     ]
    }
   ],
   "source": [
    "print(df.isnull().sum())"
   ]
  },
  {
   "cell_type": "code",
   "execution_count": null,
   "id": "ad00cab6-6e39-4b5c-984a-9e5f21ddaf49",
   "metadata": {},
   "outputs": [],
   "source": [
    "# handle missing values"
   ]
  },
  {
   "cell_type": "code",
   "execution_count": 100,
   "id": "b0cf2b36-55d5-4ff5-93a0-5baa9f965895",
   "metadata": {},
   "outputs": [],
   "source": [
    "#Drop Missing Values\n",
    "df_clean = df.dropna()"
   ]
  },
  {
   "cell_type": "code",
   "execution_count": 102,
   "id": "a64e57e7-a9a0-4348-9419-3ae86d7ff0e0",
   "metadata": {},
   "outputs": [
    {
     "name": "stdout",
     "output_type": "stream",
     "text": [
      "PassengerId    0\n",
      "Survived       0\n",
      "Pclass         0\n",
      "Name           0\n",
      "Sex            0\n",
      "Age            0\n",
      "SibSp          0\n",
      "Parch          0\n",
      "Ticket         0\n",
      "Fare           0\n",
      "Cabin          0\n",
      "Embarked       0\n",
      "dtype: int64\n"
     ]
    }
   ],
   "source": [
    "print(df_clean.isnull().sum())"
   ]
  },
  {
   "cell_type": "code",
   "execution_count": 104,
   "id": "d28c1f6a-5ba2-4d84-9f15-08225d7e4149",
   "metadata": {},
   "outputs": [],
   "source": [
    "# Remove duplicates\n",
    "df.drop_duplicates(inplace=True)"
   ]
  },
  {
   "cell_type": "code",
   "execution_count": 106,
   "id": "04d44c15-66ba-4152-9aa9-680c059cea17",
   "metadata": {},
   "outputs": [
    {
     "data": {
      "text/html": [
       "<div>\n",
       "<style scoped>\n",
       "    .dataframe tbody tr th:only-of-type {\n",
       "        vertical-align: middle;\n",
       "    }\n",
       "\n",
       "    .dataframe tbody tr th {\n",
       "        vertical-align: top;\n",
       "    }\n",
       "\n",
       "    .dataframe thead th {\n",
       "        text-align: right;\n",
       "    }\n",
       "</style>\n",
       "<table border=\"1\" class=\"dataframe\">\n",
       "  <thead>\n",
       "    <tr style=\"text-align: right;\">\n",
       "      <th></th>\n",
       "      <th>PassengerId</th>\n",
       "      <th>Survived</th>\n",
       "      <th>Pclass</th>\n",
       "      <th>Name</th>\n",
       "      <th>Sex</th>\n",
       "      <th>Age</th>\n",
       "      <th>SibSp</th>\n",
       "      <th>Parch</th>\n",
       "      <th>Ticket</th>\n",
       "      <th>Fare</th>\n",
       "      <th>Cabin</th>\n",
       "      <th>Embarked</th>\n",
       "    </tr>\n",
       "  </thead>\n",
       "  <tbody>\n",
       "    <tr>\n",
       "      <th>345</th>\n",
       "      <td>1237</td>\n",
       "      <td>1</td>\n",
       "      <td>3</td>\n",
       "      <td>Abelseth, Miss. Karen Marie</td>\n",
       "      <td>female</td>\n",
       "      <td>16.0</td>\n",
       "      <td>0</td>\n",
       "      <td>0</td>\n",
       "      <td>348125</td>\n",
       "      <td>7.6500</td>\n",
       "      <td>NaN</td>\n",
       "      <td>S</td>\n",
       "    </tr>\n",
       "    <tr>\n",
       "      <th>272</th>\n",
       "      <td>1164</td>\n",
       "      <td>1</td>\n",
       "      <td>1</td>\n",
       "      <td>Clark, Mrs. Walter Miller (Virginia McDowell)</td>\n",
       "      <td>female</td>\n",
       "      <td>26.0</td>\n",
       "      <td>1</td>\n",
       "      <td>0</td>\n",
       "      <td>13508</td>\n",
       "      <td>136.7792</td>\n",
       "      <td>C89</td>\n",
       "      <td>C</td>\n",
       "    </tr>\n",
       "  </tbody>\n",
       "</table>\n",
       "</div>"
      ],
      "text/plain": [
       "     PassengerId  Survived  Pclass  \\\n",
       "345         1237         1       3   \n",
       "272         1164         1       1   \n",
       "\n",
       "                                              Name     Sex   Age  SibSp  \\\n",
       "345                    Abelseth, Miss. Karen Marie  female  16.0      0   \n",
       "272  Clark, Mrs. Walter Miller (Virginia McDowell)  female  26.0      1   \n",
       "\n",
       "     Parch  Ticket      Fare Cabin Embarked  \n",
       "345      0  348125    7.6500   NaN        S  \n",
       "272      0   13508  136.7792   C89        C  "
      ]
     },
     "execution_count": 106,
     "metadata": {},
     "output_type": "execute_result"
    }
   ],
   "source": [
    "df.sample(2)"
   ]
  },
  {
   "cell_type": "code",
   "execution_count": 108,
   "id": "391a4c1d-9c64-4ab3-b126-7823a0067ed7",
   "metadata": {},
   "outputs": [],
   "source": [
    "#: Create NumPy Arrays\n",
    "a = np.array([1, 2, 3])\n",
    "b = np.array([4, 5, 6])"
   ]
  },
  {
   "cell_type": "code",
   "execution_count": 110,
   "id": "3a78c4c3-9004-47bb-bff0-5da0ead270c6",
   "metadata": {},
   "outputs": [
    {
     "name": "stdout",
     "output_type": "stream",
     "text": [
      "[5 7 9]\n",
      "[-3 -3 -3]\n",
      "[ 4 10 18]\n",
      "[0.25 0.4  0.5 ]\n",
      "[1 4 9]\n"
     ]
    }
   ],
   "source": [
    "#Perform Mathematical Operations\n",
    "print(a + b) \n",
    "print(a - b) \n",
    "print(a * b)\n",
    "print(a / b)\n",
    "print(a ** 2)"
   ]
  },
  {
   "cell_type": "code",
   "execution_count": 112,
   "id": "10517447-6a33-4fa4-bf51-52f4d1db5d34",
   "metadata": {},
   "outputs": [
    {
     "name": "stdout",
     "output_type": "stream",
     "text": [
      "2.0\n",
      "6\n",
      "1\n",
      "6\n"
     ]
    }
   ],
   "source": [
    "print(np.mean(a))\n",
    "print(np.max(b)) \n",
    "print(np.min(a))\n",
    "print(np.sum(a)) "
   ]
  },
  {
   "cell_type": "markdown",
   "id": "d1ef14f4-f383-4018-8d3e-35d430cd10e2",
   "metadata": {},
   "source": [
    "## Q.1 Use Pandas to load and analyze a dataset (e.g., sum, mean, median)"
   ]
  },
  {
   "cell_type": "code",
   "execution_count": 119,
   "id": "424c3b0a-ec94-48c9-a3de-b89d76b3a213",
   "metadata": {},
   "outputs": [],
   "source": [
    "df=pd.read_csv(\"C:\\\\Users\\\\KMC\\\\Desktop\\\\pandas\\\\placement.csv\")"
   ]
  },
  {
   "cell_type": "code",
   "execution_count": 121,
   "id": "e7f5378d-525e-4306-aad8-385cfbfd85c3",
   "metadata": {},
   "outputs": [
    {
     "data": {
      "text/html": [
       "<div>\n",
       "<style scoped>\n",
       "    .dataframe tbody tr th:only-of-type {\n",
       "        vertical-align: middle;\n",
       "    }\n",
       "\n",
       "    .dataframe tbody tr th {\n",
       "        vertical-align: top;\n",
       "    }\n",
       "\n",
       "    .dataframe thead th {\n",
       "        text-align: right;\n",
       "    }\n",
       "</style>\n",
       "<table border=\"1\" class=\"dataframe\">\n",
       "  <thead>\n",
       "    <tr style=\"text-align: right;\">\n",
       "      <th></th>\n",
       "      <th>cgpa</th>\n",
       "      <th>resume_score</th>\n",
       "      <th>placed</th>\n",
       "    </tr>\n",
       "  </thead>\n",
       "  <tbody>\n",
       "    <tr>\n",
       "      <th>0</th>\n",
       "      <td>8.14</td>\n",
       "      <td>6.52</td>\n",
       "      <td>1</td>\n",
       "    </tr>\n",
       "    <tr>\n",
       "      <th>1</th>\n",
       "      <td>6.17</td>\n",
       "      <td>5.17</td>\n",
       "      <td>0</td>\n",
       "    </tr>\n",
       "    <tr>\n",
       "      <th>2</th>\n",
       "      <td>8.27</td>\n",
       "      <td>8.86</td>\n",
       "      <td>1</td>\n",
       "    </tr>\n",
       "    <tr>\n",
       "      <th>3</th>\n",
       "      <td>6.88</td>\n",
       "      <td>7.27</td>\n",
       "      <td>1</td>\n",
       "    </tr>\n",
       "    <tr>\n",
       "      <th>4</th>\n",
       "      <td>7.52</td>\n",
       "      <td>7.30</td>\n",
       "      <td>1</td>\n",
       "    </tr>\n",
       "  </tbody>\n",
       "</table>\n",
       "</div>"
      ],
      "text/plain": [
       "   cgpa  resume_score  placed\n",
       "0  8.14          6.52       1\n",
       "1  6.17          5.17       0\n",
       "2  8.27          8.86       1\n",
       "3  6.88          7.27       1\n",
       "4  7.52          7.30       1"
      ]
     },
     "execution_count": 121,
     "metadata": {},
     "output_type": "execute_result"
    }
   ],
   "source": [
    "df.head()"
   ]
  },
  {
   "cell_type": "code",
   "execution_count": 123,
   "id": "3becb14b-3352-46d1-a7dc-0e77de276286",
   "metadata": {},
   "outputs": [
    {
     "name": "stdout",
     "output_type": "stream",
     "text": [
      "<class 'pandas.core.frame.DataFrame'>\n",
      "RangeIndex: 100 entries, 0 to 99\n",
      "Data columns (total 3 columns):\n",
      " #   Column        Non-Null Count  Dtype  \n",
      "---  ------        --------------  -----  \n",
      " 0   cgpa          100 non-null    float64\n",
      " 1   resume_score  100 non-null    float64\n",
      " 2   placed        100 non-null    int64  \n",
      "dtypes: float64(2), int64(1)\n",
      "memory usage: 2.5 KB\n"
     ]
    }
   ],
   "source": [
    "df.info()"
   ]
  },
  {
   "cell_type": "code",
   "execution_count": 125,
   "id": "993ba167-5d1c-4a55-a58d-316822843b5a",
   "metadata": {},
   "outputs": [
    {
     "name": "stdout",
     "output_type": "stream",
     "text": [
      "Index(['cgpa', 'resume_score', 'placed'], dtype='object')\n"
     ]
    }
   ],
   "source": [
    "print(df.columns)"
   ]
  },
  {
   "cell_type": "code",
   "execution_count": 149,
   "id": "e85c53bc-2ce8-4deb-8f21-418e133ef84c",
   "metadata": {},
   "outputs": [
    {
     "data": {
      "text/plain": [
       "cgpa            0\n",
       "resume_score    0\n",
       "placed          0\n",
       "dtype: int64"
      ]
     },
     "execution_count": 149,
     "metadata": {},
     "output_type": "execute_result"
    }
   ],
   "source": [
    "df.isnull().sum()"
   ]
  },
  {
   "cell_type": "code",
   "execution_count": 142,
   "id": "d206d258-58ed-42be-a687-afa5e85da1bd",
   "metadata": {},
   "outputs": [
    {
     "name": "stdout",
     "output_type": "stream",
     "text": [
      "693.05\n",
      "cgpa            694.22\n",
      "resume_score    693.05\n",
      "placed           50.00\n",
      "dtype: float64\n"
     ]
    }
   ],
   "source": [
    "# sum\n",
    "print(df['resume_score'].sum()) \n",
    "print(df.sum(numeric_only=True))"
   ]
  },
  {
   "cell_type": "code",
   "execution_count": 144,
   "id": "ce13723f-2caf-4fab-91df-845da2170ff5",
   "metadata": {},
   "outputs": [
    {
     "name": "stdout",
     "output_type": "stream",
     "text": [
      "0.5\n",
      "cgpa            6.9422\n",
      "resume_score    6.9305\n",
      "placed          0.5000\n",
      "dtype: float64\n"
     ]
    }
   ],
   "source": [
    "# mean\n",
    "print(df['placed'].mean()) \n",
    "print(df.mean(numeric_only=True))"
   ]
  },
  {
   "cell_type": "code",
   "execution_count": 146,
   "id": "6f1a5f4d-3643-4a0c-873b-52a11e854e03",
   "metadata": {},
   "outputs": [
    {
     "name": "stdout",
     "output_type": "stream",
     "text": [
      "6.62\n",
      "cgpa            6.620\n",
      "resume_score    7.055\n",
      "placed          0.500\n",
      "dtype: float64\n"
     ]
    }
   ],
   "source": [
    "# median\n",
    "print(df['cgpa'].median()) \n",
    "print(df.median(numeric_only=True))"
   ]
  },
  {
   "cell_type": "markdown",
   "id": "8e874a3e-d486-4746-9b2b-c198f2d025a3",
   "metadata": {},
   "source": [
    "## 2. Perform matrix operations using NumPy (e.g., addition, multiplication)"
   ]
  },
  {
   "cell_type": "code",
   "execution_count": 153,
   "id": "030b204e-97dc-4b4b-949f-c92cd9c2f120",
   "metadata": {},
   "outputs": [],
   "source": [
    "# Create Matrices (2D NumPy Arrays)\n",
    "A = np.array([[1, 2], [3, 4]])\n",
    "B = np.array([[5, 6], [7, 8]])"
   ]
  },
  {
   "cell_type": "code",
   "execution_count": 157,
   "id": "8d695079-5ec2-49d1-a3a2-55ce636e0688",
   "metadata": {},
   "outputs": [
    {
     "name": "stdout",
     "output_type": "stream",
     "text": [
      "[[1 2]\n",
      " [3 4]]\n",
      "[[5 6]\n",
      " [7 8]]\n"
     ]
    }
   ],
   "source": [
    "print(A)\n",
    "print(B)"
   ]
  },
  {
   "cell_type": "code",
   "execution_count": 163,
   "id": "4961b9f0-a9f1-4d01-a795-66ab5268b062",
   "metadata": {},
   "outputs": [
    {
     "name": "stdout",
     "output_type": "stream",
     "text": [
      "Addition:\n",
      " [[ 6  8]\n",
      " [10 12]]\n"
     ]
    }
   ],
   "source": [
    "# Matrix Addition\n",
    "C = A + B\n",
    "print(\"Addition:\\n\", C)"
   ]
  },
  {
   "cell_type": "code",
   "execution_count": 165,
   "id": "a20b62d9-a2a8-4f99-a611-9154b8b2721a",
   "metadata": {},
   "outputs": [
    {
     "name": "stdout",
     "output_type": "stream",
     "text": [
      "Subtraction:\n",
      " [[-4 -4]\n",
      " [-4 -4]]\n"
     ]
    }
   ],
   "source": [
    "# Matrix Subtraction\n",
    "D = A - B\n",
    "print(\"Subtraction:\\n\", D)"
   ]
  },
  {
   "cell_type": "code",
   "execution_count": 169,
   "id": "8592eb64-b584-48a5-9541-45f9fd74f896",
   "metadata": {},
   "outputs": [
    {
     "name": "stdout",
     "output_type": "stream",
     "text": [
      "Matrix Multiplication:\n",
      " [[19 22]\n",
      " [43 50]]\n"
     ]
    }
   ],
   "source": [
    "#Matrix Multiplication\n",
    "F = np.dot(A, B)\n",
    "print(\"Matrix Multiplication:\\n\", F)"
   ]
  },
  {
   "cell_type": "code",
   "execution_count": 171,
   "id": "1b90b5d1-e294-4588-a007-3e8367924f23",
   "metadata": {},
   "outputs": [
    {
     "name": "stdout",
     "output_type": "stream",
     "text": [
      "Identity Matrix:\n",
      " [[1. 0.]\n",
      " [0. 1.]]\n"
     ]
    }
   ],
   "source": [
    "# Identity Matrix\n",
    "I = np.identity(2)\n",
    "print(\"Identity Matrix:\\n\", I)"
   ]
  },
  {
   "cell_type": "markdown",
   "id": "d821c92a-eb03-4691-853b-15dfb5549e57",
   "metadata": {},
   "source": [
    "## 3. Use Pandas to filter, group, and sort data in a DataFrame"
   ]
  },
  {
   "cell_type": "code",
   "execution_count": 176,
   "id": "6300514b-77bd-437a-858e-55b5937c7c79",
   "metadata": {},
   "outputs": [],
   "source": [
    "# Import Pandas and load your dataset\n",
    "import pandas as pd\n",
    "\n",
    "df  = pd.read_csv(\"C:\\\\Users\\\\KMC\\\\Desktop\\\\pandas\\\\covid_toy.csv\")"
   ]
  },
  {
   "cell_type": "code",
   "execution_count": 178,
   "id": "5f24c09e-151b-4927-afcb-bc61b74572e4",
   "metadata": {},
   "outputs": [
    {
     "data": {
      "text/html": [
       "<div>\n",
       "<style scoped>\n",
       "    .dataframe tbody tr th:only-of-type {\n",
       "        vertical-align: middle;\n",
       "    }\n",
       "\n",
       "    .dataframe tbody tr th {\n",
       "        vertical-align: top;\n",
       "    }\n",
       "\n",
       "    .dataframe thead th {\n",
       "        text-align: right;\n",
       "    }\n",
       "</style>\n",
       "<table border=\"1\" class=\"dataframe\">\n",
       "  <thead>\n",
       "    <tr style=\"text-align: right;\">\n",
       "      <th></th>\n",
       "      <th>age</th>\n",
       "      <th>gender</th>\n",
       "      <th>fever</th>\n",
       "      <th>cough</th>\n",
       "      <th>city</th>\n",
       "      <th>has_covid</th>\n",
       "    </tr>\n",
       "  </thead>\n",
       "  <tbody>\n",
       "    <tr>\n",
       "      <th>0</th>\n",
       "      <td>60</td>\n",
       "      <td>Male</td>\n",
       "      <td>103.0</td>\n",
       "      <td>Mild</td>\n",
       "      <td>Kolkata</td>\n",
       "      <td>No</td>\n",
       "    </tr>\n",
       "    <tr>\n",
       "      <th>1</th>\n",
       "      <td>27</td>\n",
       "      <td>Male</td>\n",
       "      <td>100.0</td>\n",
       "      <td>Mild</td>\n",
       "      <td>Delhi</td>\n",
       "      <td>Yes</td>\n",
       "    </tr>\n",
       "    <tr>\n",
       "      <th>2</th>\n",
       "      <td>42</td>\n",
       "      <td>Male</td>\n",
       "      <td>101.0</td>\n",
       "      <td>Mild</td>\n",
       "      <td>Delhi</td>\n",
       "      <td>No</td>\n",
       "    </tr>\n",
       "    <tr>\n",
       "      <th>3</th>\n",
       "      <td>31</td>\n",
       "      <td>Female</td>\n",
       "      <td>98.0</td>\n",
       "      <td>Mild</td>\n",
       "      <td>Kolkata</td>\n",
       "      <td>No</td>\n",
       "    </tr>\n",
       "    <tr>\n",
       "      <th>4</th>\n",
       "      <td>65</td>\n",
       "      <td>Female</td>\n",
       "      <td>101.0</td>\n",
       "      <td>Mild</td>\n",
       "      <td>Mumbai</td>\n",
       "      <td>No</td>\n",
       "    </tr>\n",
       "  </tbody>\n",
       "</table>\n",
       "</div>"
      ],
      "text/plain": [
       "   age  gender  fever cough     city has_covid\n",
       "0   60    Male  103.0  Mild  Kolkata        No\n",
       "1   27    Male  100.0  Mild    Delhi       Yes\n",
       "2   42    Male  101.0  Mild    Delhi        No\n",
       "3   31  Female   98.0  Mild  Kolkata        No\n",
       "4   65  Female  101.0  Mild   Mumbai        No"
      ]
     },
     "execution_count": 178,
     "metadata": {},
     "output_type": "execute_result"
    }
   ],
   "source": [
    "df.head()"
   ]
  },
  {
   "cell_type": "code",
   "execution_count": 180,
   "id": "0e4bdb7c-cecb-4822-a80a-77853848fb6c",
   "metadata": {},
   "outputs": [
    {
     "data": {
      "text/plain": [
       "Index(['age', 'gender', 'fever', 'cough', 'city', 'has_covid'], dtype='object')"
      ]
     },
     "execution_count": 180,
     "metadata": {},
     "output_type": "execute_result"
    }
   ],
   "source": [
    "df.columns"
   ]
  },
  {
   "cell_type": "code",
   "execution_count": 194,
   "id": "34cd92bd-1d2d-42a7-80cf-5379cd6b0cba",
   "metadata": {},
   "outputs": [
    {
     "name": "stdout",
     "output_type": "stream",
     "text": [
      "    age  gender  fever   cough       city has_covid\n",
      "83   17  Female  104.0    Mild    Kolkata        No\n",
      "72   83  Female  101.0    Mild    Kolkata        No\n",
      "97   20  Female  101.0    Mild  Bangalore        No\n",
      "79   48  Female  103.0    Mild    Kolkata       Yes\n",
      "74   34  Female  104.0  Strong      Delhi        No\n"
     ]
    }
   ],
   "source": [
    "#Filter the data\n",
    "#Patients with fever over 100°F\n",
    "high_fever = df[df['fever'] > 100]\n",
    "print(high_fever.sample(5))"
   ]
  },
  {
   "cell_type": "code",
   "execution_count": 200,
   "id": "0e0ee008-19c5-48b8-b671-f7b7ebbe1420",
   "metadata": {},
   "outputs": [
    {
     "name": "stdout",
     "output_type": "stream",
     "text": [
      "    age  gender  fever   cough       city has_covid\n",
      "5    84  Female    NaN    Mild  Bangalore       Yes\n",
      "7    20  Female    NaN  Strong     Mumbai       Yes\n",
      "11   65  Female   98.0    Mild     Mumbai       Yes\n",
      "16   69  Female  103.0    Mild    Kolkata       Yes\n",
      "18   64  Female   98.0    Mild  Bangalore       Yes\n"
     ]
    }
   ],
   "source": [
    "#Female patients with COVID\n",
    "female_covid = df[(df['gender'] == 'Female') & (df['has_covid'] == 'Yes')]\n",
    "print(female_covid.head())\n",
    "\n"
   ]
  },
  {
   "cell_type": "code",
   "execution_count": 202,
   "id": "e3e0654f-72aa-4eec-bd93-2a76c95ac308",
   "metadata": {},
   "outputs": [],
   "source": [
    "# Group the data"
   ]
  },
  {
   "cell_type": "code",
   "execution_count": 204,
   "id": "20c75de3-7b95-4bd1-9b1f-e9400444e50e",
   "metadata": {},
   "outputs": [
    {
     "name": "stdout",
     "output_type": "stream",
     "text": [
      "city\n",
      "Bangalore    13\n",
      "Delhi         9\n",
      "Kolkata      15\n",
      "Mumbai        8\n",
      "dtype: int64\n"
     ]
    }
   ],
   "source": [
    "#Count of COVID cases by city\n",
    "\n",
    "grouped_by_city = df[df['has_covid'] == 'Yes'].groupby('city').size()\n",
    "print(grouped_by_city)"
   ]
  },
  {
   "cell_type": "code",
   "execution_count": 206,
   "id": "871df340-af6b-44aa-89ba-05fd8ab07a7a",
   "metadata": {},
   "outputs": [
    {
     "name": "stdout",
     "output_type": "stream",
     "text": [
      "gender\n",
      "Female    43.847458\n",
      "Male      44.756098\n",
      "Name: age, dtype: float64\n"
     ]
    }
   ],
   "source": [
    "#Average age of patients by gender\n",
    "\n",
    "avg_age_by_gender = df.groupby('gender')['age'].mean()\n",
    "print(avg_age_by_gender)\n"
   ]
  },
  {
   "cell_type": "code",
   "execution_count": 208,
   "id": "ff40e6cc-c40c-4223-a89c-76ce111f5f62",
   "metadata": {},
   "outputs": [],
   "source": [
    "# Sort the data"
   ]
  },
  {
   "cell_type": "code",
   "execution_count": 210,
   "id": "9e359b10-f35f-4764-beff-c1d5abac5a61",
   "metadata": {},
   "outputs": [
    {
     "name": "stdout",
     "output_type": "stream",
     "text": [
      "    age  gender  fever   cough       city has_covid\n",
      "62   56  Female  104.0  Strong  Bangalore       Yes\n",
      "95   12  Female  104.0    Mild  Bangalore        No\n",
      "83   17  Female  104.0    Mild    Kolkata        No\n",
      "28   16    Male  104.0    Mild    Kolkata        No\n",
      "74   34  Female  104.0  Strong      Delhi        No\n",
      "..  ...     ...    ...     ...        ...       ...\n",
      "29   34  Female    NaN  Strong     Mumbai       Yes\n",
      "41   82    Male    NaN    Mild    Kolkata       Yes\n",
      "56   71    Male    NaN  Strong    Kolkata        No\n",
      "91   38    Male    NaN    Mild      Delhi       Yes\n",
      "94   79    Male    NaN  Strong    Kolkata       Yes\n",
      "\n",
      "[100 rows x 6 columns]\n"
     ]
    }
   ],
   "source": [
    "sorted_by_fever = df.sort_values(by='fever', ascending=False)\n",
    "print(sorted_by_fever)"
   ]
  },
  {
   "cell_type": "code",
   "execution_count": null,
   "id": "53849d4a-6602-46c9-a004-f912d2ff901f",
   "metadata": {},
   "outputs": [],
   "source": []
  }
 ],
 "metadata": {
  "kernelspec": {
   "display_name": "Python 3 (ipykernel)",
   "language": "python",
   "name": "python3"
  },
  "language_info": {
   "codemirror_mode": {
    "name": "ipython",
    "version": 3
   },
   "file_extension": ".py",
   "mimetype": "text/x-python",
   "name": "python",
   "nbconvert_exporter": "python",
   "pygments_lexer": "ipython3",
   "version": "3.11.7"
  }
 },
 "nbformat": 4,
 "nbformat_minor": 5
}
