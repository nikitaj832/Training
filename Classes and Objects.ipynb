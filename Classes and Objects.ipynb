{
 "cells": [
  {
   "cell_type": "markdown",
   "id": "4a1f297f-d15b-434f-b36b-8c74774afa7b",
   "metadata": {},
   "source": [
    "## Classes and Objects"
   ]
  },
  {
   "cell_type": "code",
   "execution_count": 8,
   "id": "09d05ab8-699d-4673-a337-c844c7c3e772",
   "metadata": {},
   "outputs": [
    {
     "name": "stdout",
     "output_type": "stream",
     "text": [
      "Hello, my name is Nikita.\n"
     ]
    }
   ],
   "source": [
    "# Create a class called Person with the following attribute name\n",
    "class Person:\n",
    "    def __init__(self, name):\n",
    "        self.name = name\n",
    "\n",
    "    def greet(self):\n",
    "        print(f\"Hello, my name is {self.name}.\")\n",
    "p1 = Person(\"Nikita\")\n",
    "p1.greet()"
   ]
  },
  {
   "cell_type": "code",
   "execution_count": 12,
   "id": "703006e8-8710-497e-9349-dc52af194b1e",
   "metadata": {},
   "outputs": [
    {
     "name": "stdout",
     "output_type": "stream",
     "text": [
      "Hi, I'm Riya from Delhi.\n",
      "Is adult: True\n"
     ]
    }
   ],
   "source": [
    "# An instance of a class with specific attributes & Methods \n",
    "class Person:\n",
    "    def __init__(self, name, age, city):\n",
    "        self.name = name        # Attribute\n",
    "        self.age = age          # Attribute\n",
    "        self.city = city        # Attribute\n",
    "\n",
    "    def greet(self):            # Method\n",
    "        print(f\"Hi, I'm {self.name} from {self.city}.\")\n",
    "\n",
    "    def is_adult(self):         # Method\n",
    "        return self.age >= 18\n",
    "\n",
    "person1 = Person(\"Riya\", 22, \"Delhi\")\n",
    "person1.greet()\n",
    "print(\"Is adult:\", person1.is_adult())"
   ]
  },
  {
   "cell_type": "code",
   "execution_count": 14,
   "id": "df08ca00-b8ed-42a6-82c5-457aaf7f9e69",
   "metadata": {},
   "outputs": [
    {
     "name": "stdout",
     "output_type": "stream",
     "text": [
      "This car is a Toyota Corolla.\n"
     ]
    }
   ],
   "source": [
    "#an object by creating it from a class (e.g., my_car = Car())\n",
    "class Car:\n",
    "    def __init__(self, brand, model):\n",
    "        self.brand = brand\n",
    "        self.model = model\n",
    "\n",
    "    def display_info(self):\n",
    "        print(f\"This car is a {self.brand} {self.model}.\")\n",
    "my_car = Car(\"Toyota\", \"Corolla\")\n",
    "my_car.display_info()"
   ]
  },
  {
   "cell_type": "markdown",
   "id": "179e7ea4-cca7-458d-a6b3-41ab91cb3aec",
   "metadata": {},
   "source": [
    "## 1. Define a Simple Student Class with variables & Methods"
   ]
  },
  {
   "cell_type": "code",
   "execution_count": 17,
   "id": "3665176c-5fad-4470-8525-65f2bef3d56e",
   "metadata": {},
   "outputs": [
    {
     "name": "stdout",
     "output_type": "stream",
     "text": [
      "Name: Anjali\n",
      "Roll No: 101\n",
      "Course: Computer Science\n"
     ]
    }
   ],
   "source": [
    "class Student:\n",
    "    def __init__(self, name, roll_no, course):\n",
    "        self.name = name            # attribute\n",
    "        self.roll_no = roll_no      # attribute\n",
    "        self.course = course        # attribute\n",
    "\n",
    "    def display_info(self):         # method\n",
    "        print(f\"Name: {self.name}\")\n",
    "        print(f\"Roll No: {self.roll_no}\")\n",
    "        print(f\"Course: {self.course}\")\n",
    "\n",
    "    def is_enrolled_in(self, course_name):   # method\n",
    "        return self.course.lower() == course_name.lower()\n",
    "student1 = Student(\"Anjali\", 101, \"Computer Science\")\n",
    "student1.display_info()"
   ]
  },
  {
   "cell_type": "code",
   "execution_count": 19,
   "id": "7c6874be-e0da-4b8a-b3e8-25a1e7cd05f9",
   "metadata": {},
   "outputs": [
    {
     "name": "stdout",
     "output_type": "stream",
     "text": [
      "Enrolled in Computer Science? True\n"
     ]
    }
   ],
   "source": [
    "print(\"Enrolled in Computer Science?\", student1.is_enrolled_in(\"Computer Science\"))"
   ]
  },
  {
   "cell_type": "markdown",
   "id": "1a8a55a7-122c-42e6-9933-8db1096888c5",
   "metadata": {},
   "source": [
    "## 2.Define a Car Class with Methods and create a Object"
   ]
  },
  {
   "cell_type": "code",
   "execution_count": 28,
   "id": "d0224707-f3eb-40ea-b544-328ed5c220e8",
   "metadata": {},
   "outputs": [
    {
     "name": "stdout",
     "output_type": "stream",
     "text": [
      "This car is a Honda Civic.\n"
     ]
    }
   ],
   "source": [
    "class Car:\n",
    "    def __init__(self, brand, model):\n",
    "        self.brand = brand\n",
    "        self.model = model\n",
    "\n",
    "    def display_info(self):\n",
    "        print(f\"This car is a {self.brand} {self.model}.\")\n",
    "my_car = Car(\"Honda\", \"Civic\")\n",
    "my_car.display_info()"
   ]
  },
  {
   "cell_type": "markdown",
   "id": "a6e5bcd6-bf39-4c28-a935-690047478335",
   "metadata": {},
   "source": [
    "## 3. Instantiate the class to create an object and Call Methods "
   ]
  },
  {
   "cell_type": "code",
   "execution_count": 34,
   "id": "6f3c8d20-3787-4ac6-b546-d83e15792bea",
   "metadata": {},
   "outputs": [
    {
     "name": "stdout",
     "output_type": "stream",
     "text": [
      "Toyota Fortuner is start...\n"
     ]
    }
   ],
   "source": [
    "class Car:\n",
    "    def __init__(self, brand, model):\n",
    "        self.brand = brand\n",
    "        self.model = model\n",
    "\n",
    "    def start(self):\n",
    "        print(f\"{self.brand} {self.model} is start...\")\n",
    "\n",
    "my_car = Car(\"Toyota\", \"Fortuner\")\n",
    "# Call the methods\n",
    "my_car.start()"
   ]
  },
  {
   "cell_type": "code",
   "execution_count": null,
   "id": "e4c05d9e-d67f-46aa-bbf5-42efb747de37",
   "metadata": {},
   "outputs": [],
   "source": []
  }
 ],
 "metadata": {
  "kernelspec": {
   "display_name": "Python 3 (ipykernel)",
   "language": "python",
   "name": "python3"
  },
  "language_info": {
   "codemirror_mode": {
    "name": "ipython",
    "version": 3
   },
   "file_extension": ".py",
   "mimetype": "text/x-python",
   "name": "python",
   "nbconvert_exporter": "python",
   "pygments_lexer": "ipython3",
   "version": "3.11.7"
  }
 },
 "nbformat": 4,
 "nbformat_minor": 5
}
