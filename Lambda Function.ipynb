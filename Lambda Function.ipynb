{
 "cells": [
  {
   "cell_type": "markdown",
   "id": "058a506e-0b61-454c-96b8-e95d1cccca20",
   "metadata": {},
   "source": [
    "## Lambda/Anonymous Function"
   ]
  },
  {
   "cell_type": "code",
   "execution_count": 4,
   "id": "415dcb56-1dfa-4d03-94bc-9dc094955441",
   "metadata": {},
   "outputs": [
    {
     "name": "stdout",
     "output_type": "stream",
     "text": [
      "Addition:  7\n"
     ]
    }
   ],
   "source": [
    "# A simple lambda function to add two numbers.\n",
    "\n",
    "add = lambda a,b : a+b\n",
    "print(\"Addition: \",add(6,1))"
   ]
  },
  {
   "cell_type": "code",
   "execution_count": 6,
   "id": "61a0ab2c-6cc7-4b33-a45c-1ef6852d4194",
   "metadata": {},
   "outputs": [
    {
     "name": "stdout",
     "output_type": "stream",
     "text": [
      "[1, 4, 9, 16, 25, 36, 49]\n"
     ]
    }
   ],
   "source": [
    "# Using lambda with map() to square a list of numbers.\n",
    "\n",
    "num = [1, 2, 3, 4, 5,6,7]\n",
    "squared = list(map(lambda x: x ** 2, num))\n",
    "print(squared)"
   ]
  },
  {
   "cell_type": "code",
   "execution_count": 10,
   "id": "a46e84a7-44f9-42d5-9a0c-e99fbe0773ff",
   "metadata": {},
   "outputs": [
    {
     "name": "stdout",
     "output_type": "stream",
     "text": [
      "Even\n",
      "Odd\n"
     ]
    }
   ],
   "source": [
    "# lambda function that checks if a number is even or odd.\n",
    "\n",
    "check= lambda x: \"Even\" if x % 2 == 0 else \"Odd\"\n",
    "print(check(8))\n",
    "print(check(9))"
   ]
  },
  {
   "cell_type": "markdown",
   "id": "82affde0-aec9-4415-bde0-486dcc9e49e3",
   "metadata": {},
   "source": [
    "## 1. Define a lambda function that multiplies two numbers."
   ]
  },
  {
   "cell_type": "code",
   "execution_count": 16,
   "id": "461ebb4a-96ab-4f2b-9556-fe0e4bb96365",
   "metadata": {},
   "outputs": [
    {
     "name": "stdout",
     "output_type": "stream",
     "text": [
      "30\n",
      "28\n",
      "80\n"
     ]
    }
   ],
   "source": [
    "multiply = lambda x, y: x * y\n",
    "print(multiply(6, 5))  \n",
    "print(multiply(4, 7))  \n",
    "print(multiply(8, 10)) "
   ]
  },
  {
   "cell_type": "markdown",
   "id": "30444998-1e50-46e0-9b2e-93c5aac9e07a",
   "metadata": {},
   "source": [
    "## 2. Use Lambda and map() to Add 2 to Each Number"
   ]
  },
  {
   "cell_type": "code",
   "execution_count": 21,
   "id": "b456d206-cdbc-4559-85fd-352663fec0d3",
   "metadata": {},
   "outputs": [
    {
     "name": "stdout",
     "output_type": "stream",
     "text": [
      "[3, 4, 5, 6, 7, 8, 9]\n"
     ]
    }
   ],
   "source": [
    "numbers = [1, 2, 3, 4, 5,6,7]\n",
    "added = list(map(lambda x: x + 2, numbers))\n",
    "print(added)"
   ]
  },
  {
   "cell_type": "markdown",
   "id": "96dfaa91-1c44-4934-b772-b33b8325c628",
   "metadata": {},
   "source": [
    "## 3. Create a lambda function that returns \"Yes\" if a number is greater than 10, and \"No\" otherwise."
   ]
  },
  {
   "cell_type": "code",
   "execution_count": 28,
   "id": "183cfd58-c2de-43b6-abeb-0ae1b7658adf",
   "metadata": {},
   "outputs": [
    {
     "name": "stdout",
     "output_type": "stream",
     "text": [
      "Yes\n",
      "No\n"
     ]
    }
   ],
   "source": [
    "num = lambda x: \"Yes\" if x > 10 else \"No\"\n",
    "print(num(12))\n",
    "print(num(8))"
   ]
  },
  {
   "cell_type": "code",
   "execution_count": null,
   "id": "505e124c-6810-4f0b-85ef-ef5f083811bc",
   "metadata": {},
   "outputs": [],
   "source": []
  }
 ],
 "metadata": {
  "kernelspec": {
   "display_name": "Python 3 (ipykernel)",
   "language": "python",
   "name": "python3"
  },
  "language_info": {
   "codemirror_mode": {
    "name": "ipython",
    "version": 3
   },
   "file_extension": ".py",
   "mimetype": "text/x-python",
   "name": "python",
   "nbconvert_exporter": "python",
   "pygments_lexer": "ipython3",
   "version": "3.11.7"
  }
 },
 "nbformat": 4,
 "nbformat_minor": 5
}
