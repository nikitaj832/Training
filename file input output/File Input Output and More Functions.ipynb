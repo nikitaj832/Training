{
 "cells": [
  {
   "cell_type": "markdown",
   "id": "b16b15d9-98e3-4db9-ad12-7a89408a0d87",
   "metadata": {},
   "source": [
    "## File I/O and More Functions"
   ]
  },
  {
   "cell_type": "code",
   "execution_count": 93,
   "id": "d114e801-3ee1-405c-a18f-51467db8a44a",
   "metadata": {},
   "outputs": [],
   "source": [
    "#Writng to a file\n",
    "def tr(file, content):\n",
    "    with open(file,'w') as f:\n",
    "        f.write(content)\n",
    "file='myfile.txt'\n",
    "content=\"hey, this is my training\"\n",
    "fun(file, content)"
   ]
  },
  {
   "cell_type": "code",
   "execution_count": 95,
   "id": "44d5a039-6d0c-469b-9255-32a8bdae5277",
   "metadata": {},
   "outputs": [
    {
     "data": {
      "text/plain": [
       "'hey, this is my training'"
      ]
     },
     "execution_count": 95,
     "metadata": {},
     "output_type": "execute_result"
    }
   ],
   "source": [
    "#reeding from the file\n",
    "def read_file(file):\n",
    "    try:\n",
    "        with open(file,'r') as f:\n",
    "            return f.read()\n",
    "    except FileNotFoundError:\n",
    "        return \"Error: File not found!\"\n",
    "read_file(\"myfile.txt\")"
   ]
  },
  {
   "cell_type": "code",
   "execution_count": 97,
   "id": "29628f82-47c6-434e-822a-abb0278806d6",
   "metadata": {},
   "outputs": [],
   "source": [
    "# append content to a file\n",
    "def append_file(file, content):\n",
    "    with open(file, 'a') as f:\n",
    "        f.write(content + \"\\n\")\n",
    "content = \" hey\"\n",
    "file  ='myfile.txt'\n",
    "append_file(file, content)"
   ]
  },
  {
   "cell_type": "code",
   "execution_count": 99,
   "id": "717791d8-1e52-4df8-a5dc-234b97eecce1",
   "metadata": {},
   "outputs": [
    {
     "name": "stdout",
     "output_type": "stream",
     "text": [
      "hey, this is my training hey\n",
      "\n"
     ]
    }
   ],
   "source": [
    "# Open the file in read mode\n",
    "with open('myfile.txt', 'r') as file:\n",
    "    content = file.read()  # Read the entire file content\n",
    "    print(content)"
   ]
  },
  {
   "cell_type": "code",
   "execution_count": 101,
   "id": "6675ce94-ce1c-40bb-a077-a0b577e00691",
   "metadata": {},
   "outputs": [],
   "source": [
    "# Updating \n",
    "\n",
    "with open('myfile.txt', 'r') as file:\n",
    "    content = file.read()\n",
    "\n",
    "updated_content = content.replace(\"training\", \"self training\")\n"
   ]
  },
  {
   "cell_type": "code",
   "execution_count": 103,
   "id": "9ac0688f-6e45-4ef1-897e-901c0604135f",
   "metadata": {},
   "outputs": [
    {
     "name": "stdout",
     "output_type": "stream",
     "text": [
      "hey, this is my self training hey\n",
      "\n"
     ]
    }
   ],
   "source": [
    "with open('myfile.txt', 'r') as file:\n",
    "    content = file.read() \n",
    "    print(updated_content)"
   ]
  },
  {
   "cell_type": "markdown",
   "id": "093cfe62-99b1-4dc4-9bb8-ec3b7efe71f0",
   "metadata": {},
   "source": [
    "## Write a program to read a file and count word occurrences"
   ]
  },
  {
   "cell_type": "code",
   "execution_count": 110,
   "id": "68f6993e-a7ba-45e7-96a0-0141c69e83ff",
   "metadata": {},
   "outputs": [
    {
     "name": "stdout",
     "output_type": "stream",
     "text": [
      "hey: 2\n",
      "this: 1\n",
      "is: 1\n",
      "my: 1\n",
      "training: 1\n"
     ]
    }
   ],
   "source": [
    "# Open and read the file\n",
    "with open('myfile.txt', 'r') as file:\n",
    "    text = file.read()    \n",
    "words = text.lower().split()\n",
    "word_count = {}\n",
    "for word in words:\n",
    "    word = word.strip('.,!?()[]{}\":;')\n",
    "    word_count[word] = word_count.get(word, 0) + 1\n",
    "for word, count in word_count.items():\n",
    "    print(f\"{word}: {count}\")\n"
   ]
  },
  {
   "cell_type": "markdown",
   "id": "388d879f-ba31-4fc8-82b9-ed44fa7b1869",
   "metadata": {},
   "source": [
    "## Write a user’s input to a file and then read it back"
   ]
  },
  {
   "cell_type": "code",
   "execution_count": 123,
   "id": "7a3937f1-ac4e-4e70-9390-ca5f390efb7a",
   "metadata": {},
   "outputs": [
    {
     "name": "stdin",
     "output_type": "stream",
     "text": [
      "Enter text to save in the file:  hey ,my name is nikita\n"
     ]
    },
    {
     "name": "stdout",
     "output_type": "stream",
     "text": [
      "Data successfully written to file.\n",
      "\n",
      "Reading from file: \n",
      "hey ,my name is nikita\n"
     ]
    }
   ],
   "source": [
    "def write_user(filename):\n",
    "    user_input = input(\"Enter text to save in the file: \")\n",
    "    with open(filename, 'w') as file:\n",
    "        file.write(user_input)\n",
    "    print(\"Data successfully written to file.\")\n",
    "    \n",
    "def read_file(filename):\n",
    "    try:\n",
    "        with open(filename, 'r') as file:\n",
    "            return file.read()\n",
    "    except FileNotFoundError:\n",
    "        return \"Error: File not found!\"\n",
    "filename =\"myfile.txt\"\n",
    "write_user(filename)\n",
    "\n",
    "print(\"\\nReading from file: \")\n",
    "print(read_file(filename))"
   ]
  },
  {
   "cell_type": "markdown",
   "id": "191c33a0-5caf-4f2b-a12e-913cde49d999",
   "metadata": {},
   "source": [
    "## Write a script to modify the content of an existing file"
   ]
  },
  {
   "cell_type": "code",
   "execution_count": 151,
   "id": "652d3e1e-230b-420d-8a04-110d3ca9bbf5",
   "metadata": {},
   "outputs": [
    {
     "name": "stdout",
     "output_type": "stream",
     "text": [
      "File content modified successfully.\n",
      "hey ,my name is Nikita jain\n"
     ]
    }
   ],
   "source": [
    "# Step 1: Open the file and read its content\n",
    "with open('myfile.txt', 'r') as file:\n",
    "    content = file.read()\n",
    "\n",
    "# Step 2: Modify the content\n",
    "modified_content = content.replace('jain', 'Nikita jain')\n",
    "\n",
    "# Step 3: Write the modified content back to the file\n",
    "with open('myfile.txt', 'w') as file:\n",
    "    file.write(modified_content)\n",
    "\n",
    "print(\"File content modified successfully.\")\n",
    "print(modified_content)"
   ]
  },
  {
   "cell_type": "code",
   "execution_count": null,
   "id": "db79f57e-f35a-4b58-b04e-ab8903d68078",
   "metadata": {},
   "outputs": [],
   "source": []
  }
 ],
 "metadata": {
  "kernelspec": {
   "display_name": "Python 3 (ipykernel)",
   "language": "python",
   "name": "python3"
  },
  "language_info": {
   "codemirror_mode": {
    "name": "ipython",
    "version": 3
   },
   "file_extension": ".py",
   "mimetype": "text/x-python",
   "name": "python",
   "nbconvert_exporter": "python",
   "pygments_lexer": "ipython3",
   "version": "3.11.7"
  }
 },
 "nbformat": 4,
 "nbformat_minor": 5
}
