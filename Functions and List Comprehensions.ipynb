{
 "cells": [
  {
   "cell_type": "markdown",
   "id": "c81ddd90-4264-4733-9f41-446dbe6c618b",
   "metadata": {},
   "source": [
    "# Defining and using functions"
   ]
  },
  {
   "cell_type": "code",
   "execution_count": 2,
   "id": "6c1686df-34e6-482e-81be-ba7ef1a3cf05",
   "metadata": {},
   "outputs": [
    {
     "data": {
      "text/plain": [
       "True"
      ]
     },
     "execution_count": 2,
     "metadata": {},
     "output_type": "execute_result"
    }
   ],
   "source": [
    "# Create functions for common tasks (e.g., checking prime numbers)\n",
    "\n",
    "def is_prime(n):\n",
    "    if n <= 1:\n",
    "        return False\n",
    "    for i in range(2, int(n**0.5) + 1):\n",
    "        if n % i == 0:\n",
    "            return False\n",
    "    return True\n",
    "is_prime(89)"
   ]
  },
  {
   "cell_type": "code",
   "execution_count": 8,
   "id": "04ebb9f9-35a4-4b12-a9f4-e6b47a7ba8b0",
   "metadata": {},
   "outputs": [
    {
     "data": {
      "text/plain": [
       "120"
      ]
     },
     "execution_count": 8,
     "metadata": {},
     "output_type": "execute_result"
    }
   ],
   "source": [
    "# Write a function to calculate the factorial of a number\n",
    "\n",
    "def factorial(n):\n",
    "    if n < 0:\n",
    "        return \"Factorial not defined for negative numbers\"\n",
    "    result = 1\n",
    "    for i in range(2, n + 1):\n",
    "        result *= i\n",
    "    return result\n",
    "\n",
    "factorial(5)"
   ]
  },
  {
   "cell_type": "markdown",
   "id": "b5e52e09-fcf9-421a-b06f-7f8076aa265a",
   "metadata": {},
   "source": [
    "#  Parameters, return values, and scope of variables"
   ]
  },
  {
   "cell_type": "code",
   "execution_count": 9,
   "id": "10e136f3-259c-4f5d-a12a-a4455968bba2",
   "metadata": {},
   "outputs": [
    {
     "name": "stdout",
     "output_type": "stream",
     "text": [
      "Hello, hey\n",
      "Hello, Guest\n"
     ]
    }
   ],
   "source": [
    "# Write functions with default and keyword arguments\n",
    "\n",
    "# 1. Function with Default Arguments\n",
    "\n",
    "def greet(name=\"Guest\"):\n",
    "    print(\"Hello,\", name)\n",
    "\n",
    "greet(\"hey\") \n",
    "greet()                          # If no name is given, it uses \"Guest\" by default."
   ]
  },
  {
   "cell_type": "code",
   "execution_count": 10,
   "id": "220c47fa-139f-47fd-9a17-8875e781a63e",
   "metadata": {},
   "outputs": [
    {
     "name": "stdout",
     "output_type": "stream",
     "text": [
      "Name: Ravi, Age: 20, Course: Python\n"
     ]
    }
   ],
   "source": [
    "# 2. Function with Keyword Arguments\n",
    "\n",
    "def student_info(name, age, course):\n",
    "    print(f\"Name: {name}, Age: {age}, Course: {course}\")\n",
    "\n",
    "student_info(age=20, course=\"Python\", name=\"Ravi\")"
   ]
  },
  {
   "cell_type": "code",
   "execution_count": 11,
   "id": "8defe813-a950-410b-953a-d9681757c044",
   "metadata": {},
   "outputs": [
    {
     "name": "stdout",
     "output_type": "stream",
     "text": [
      "[2, 4, 6, 8, 10]\n"
     ]
    }
   ],
   "source": [
    "# Create list comprehensions to filter even numbers and transform data\n",
    "\n",
    "#1. Filter Even Numbers Using List Comprehension\n",
    "\n",
    "numbers = [1, 2, 3, 4, 5, 6, 7, 8, 9, 10]\n",
    "\n",
    "even_numbers = [num for num in numbers if num % 2 == 0]\n",
    "\n",
    "print(even_numbers) "
   ]
  },
  {
   "cell_type": "code",
   "execution_count": 12,
   "id": "41e3ac95-b88d-40e0-b54e-0347ed5ece11",
   "metadata": {},
   "outputs": [
    {
     "name": "stdout",
     "output_type": "stream",
     "text": [
      "[1, 4, 9, 16, 25]\n"
     ]
    }
   ],
   "source": [
    "# 2. Transform Data – Square Each Number\n",
    "\n",
    "numbers = [1, 2, 3, 4, 5]\n",
    "\n",
    "squares = [num ** 2 for num in numbers]\n",
    "\n",
    "print(squares)"
   ]
  },
  {
   "cell_type": "markdown",
   "id": "f548fb43-2c65-4139-a2e5-42704b6d0019",
   "metadata": {},
   "source": [
    "# Introduction to list comprehensions"
   ]
  },
  {
   "cell_type": "code",
   "execution_count": 14,
   "id": "cf3a9961-b04d-4029-9f06-f4d16fcbe052",
   "metadata": {},
   "outputs": [
    {
     "data": {
      "text/plain": [
       "[2, 4, 6, 8, 10, 12, 14, 16, 18]"
      ]
     },
     "execution_count": 14,
     "metadata": {},
     "output_type": "execute_result"
    }
   ],
   "source": [
    "# Generate lists using comprehensions (e.g., squares of numbers)\n",
    "n=20\n",
    "a = [x for x in range(1,n) if x%2==0]\n",
    "a"
   ]
  },
  {
   "cell_type": "code",
   "execution_count": 19,
   "id": "fc3ce46e-bec1-4d20-9ea4-77dd35434a6a",
   "metadata": {},
   "outputs": [
    {
     "name": "stdout",
     "output_type": "stream",
     "text": [
      "['Ali', 'rama', 'Chery']\n"
     ]
    }
   ],
   "source": [
    "# Use comprehensions to extract values from a list of dictionaries\n",
    "students = [\n",
    "    {\"name\": \"Ali\", \"marks\": 85},\n",
    "    {\"name\": \"rama\", \"marks\": 78},\n",
    "    {\"name\": \"Chery\", \"marks\": 92}\n",
    "]\n",
    "\n",
    "# extract names\n",
    "names = [student[\"name\"] for student in students]\n",
    "print(names)  "
   ]
  },
  {
   "cell_type": "code",
   "execution_count": 20,
   "id": "d3902451-a140-4172-a1ba-7d1007cdeaef",
   "metadata": {},
   "outputs": [
    {
     "name": "stdout",
     "output_type": "stream",
     "text": [
      "[85, 78, 92]\n"
     ]
    }
   ],
   "source": [
    "#  Extract Marks\n",
    "\n",
    "marks = [student[\"marks\"] for student in students]\n",
    "print(marks)  # Output: [85, 78, 92]"
   ]
  },
  {
   "cell_type": "code",
   "execution_count": 21,
   "id": "3cfcafd4-6621-4adc-bd22-a02e127aa572",
   "metadata": {},
   "outputs": [
    {
     "name": "stdout",
     "output_type": "stream",
     "text": [
      "[('Ali', 85), ('rama', 78), ('Chery', 92)]\n"
     ]
    }
   ],
   "source": [
    "# Create a List of Tuples (Name, Marks)\n",
    "\n",
    "name_marks = [(student[\"name\"], student[\"marks\"]) for student in students]\n",
    "print(name_marks)"
   ]
  },
  {
   "cell_type": "code",
   "execution_count": null,
   "id": "8dedf513-9d2d-4dde-bbbe-b1d73d1c660f",
   "metadata": {},
   "outputs": [],
   "source": []
  }
 ],
 "metadata": {
  "kernelspec": {
   "display_name": "Python 3 (ipykernel)",
   "language": "python",
   "name": "python3"
  },
  "language_info": {
   "codemirror_mode": {
    "name": "ipython",
    "version": 3
   },
   "file_extension": ".py",
   "mimetype": "text/x-python",
   "name": "python",
   "nbconvert_exporter": "python",
   "pygments_lexer": "ipython3",
   "version": "3.13.2"
  }
 },
 "nbformat": 4,
 "nbformat_minor": 5
}
