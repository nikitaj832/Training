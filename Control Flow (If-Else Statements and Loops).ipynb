{
 "cells": [
  {
   "cell_type": "markdown",
   "id": "caab672a-f82a-4496-82c7-019760cd39c9",
   "metadata": {},
   "source": [
    "# Conditional statements: if, elif, else"
   ]
  },
  {
   "cell_type": "markdown",
   "id": "15927a1d-df9f-4b04-b3f1-cab77a1ceccc",
   "metadata": {},
   "source": [
    "#### Practical Example"
   ]
  },
  {
   "cell_type": "code",
   "execution_count": null,
   "id": "c5ffa39a-e590-4b31-bd82-4b76a122d2e2",
   "metadata": {},
   "outputs": [],
   "source": [
    "# Decision-making with if-else statements"
   ]
  },
  {
   "cell_type": "code",
   "execution_count": 10,
   "id": "5a8e558a-b043-428d-85f2-4c4b2c62fd76",
   "metadata": {},
   "outputs": [
    {
     "name": "stdout",
     "output_type": "stream",
     "text": [
      "You are eligible to vote.\n"
     ]
    }
   ],
   "source": [
    "#1. Basic if-else Statement\n",
    "age = 18\n",
    "\n",
    "if age >= 18:\n",
    "    print(\"You are eligible to vote.\")\n",
    "else:\n",
    "    print(\"You are not eligible to vote.\")\n"
   ]
  },
  {
   "cell_type": "code",
   "execution_count": 12,
   "id": "df8777b9-a090-4dd3-b7ea-9196dfa45c0a",
   "metadata": {},
   "outputs": [
    {
     "name": "stdout",
     "output_type": "stream",
     "text": [
      "Grade: B\n"
     ]
    }
   ],
   "source": [
    "#  2. if-elif-else Statement\n",
    "# Used when you have multiple conditions.\n",
    "\n",
    "marks = 75\n",
    "\n",
    "if marks >= 90:\n",
    "    print(\"Grade: A\")\n",
    "elif marks >= 75:\n",
    "    print(\"Grade: B\")\n",
    "elif marks >= 50:\n",
    "    print(\"Grade: C\")\n",
    "else:\n",
    "    print(\"Grade: F\")"
   ]
  },
  {
   "cell_type": "code",
   "execution_count": 14,
   "id": "3fec14c1-a149-4742-ba66-23839b5d485c",
   "metadata": {},
   "outputs": [
    {
     "name": "stdout",
     "output_type": "stream",
     "text": [
      "Positive and Even\n"
     ]
    }
   ],
   "source": [
    "# 3. Nested if Statements\n",
    "# if inside another if block.\n",
    "\n",
    "num = 10\n",
    "\n",
    "if num > 0:\n",
    "    if num % 2 == 0:\n",
    "        print(\"Positive and Even\")\n",
    "    else:\n",
    "        print(\"Positive and Odd\")\n",
    "else:\n",
    "    print(\"Not positive\")"
   ]
  },
  {
   "cell_type": "code",
   "execution_count": 16,
   "id": "a4c575c1-595b-425d-a43b-b715fc38b0ed",
   "metadata": {},
   "outputs": [
    {
     "name": "stdout",
     "output_type": "stream",
     "text": [
      "Both numbers are positive\n"
     ]
    }
   ],
   "source": [
    "# 4. Using if with Logical Operators\n",
    "\n",
    "a = 5\n",
    "b = 10\n",
    "\n",
    "if a > 0 and b > 0:\n",
    "    print(\"Both numbers are positive\")"
   ]
  },
  {
   "cell_type": "markdown",
   "id": "b22d29d0-9318-401e-960a-2e09fa4fd6e3",
   "metadata": {},
   "source": [
    "#### Exercise"
   ]
  },
  {
   "cell_type": "code",
   "execution_count": 21,
   "id": "53a5df19-3e13-433a-bcc2-0c0d4b892f2c",
   "metadata": {},
   "outputs": [],
   "source": [
    "#Write programs with if-else conditions (e.g., grading system)"
   ]
  },
  {
   "cell_type": "code",
   "execution_count": 23,
   "id": "45f6366a-fbac-44b0-8b14-babc39be4366",
   "metadata": {},
   "outputs": [
    {
     "name": "stdin",
     "output_type": "stream",
     "text": [
      "Enter your marks (0-100):  78\n"
     ]
    },
    {
     "name": "stdout",
     "output_type": "stream",
     "text": [
      "Your grade is: B\n"
     ]
    }
   ],
   "source": [
    "# Input marks from the user\n",
    "marks = int(input(\"Enter your marks (0-100): \"))\n",
    "\n",
    "# Grading logic using if-elif-else\n",
    "if marks >= 90:\n",
    "    grade = \"A+\"\n",
    "elif marks >= 80:\n",
    "    grade = \"A\"\n",
    "elif marks >= 70:\n",
    "    grade = \"B\"\n",
    "elif marks >= 60:\n",
    "    grade = \"C\"\n",
    "elif marks >= 50:\n",
    "    grade = \"D\"\n",
    "elif marks >= 40:\n",
    "    grade = \"E\"\n",
    "else:\n",
    "    grade = \"F (Fail)\"\n",
    "\n",
    "# Output the result\n",
    "print(\"Your grade is:\", grade)"
   ]
  },
  {
   "cell_type": "markdown",
   "id": "2f596579-be20-43d5-805c-bdffab8b16ad",
   "metadata": {},
   "source": [
    "# Loops: for and while loops"
   ]
  },
  {
   "cell_type": "markdown",
   "id": "c67d03f4-5063-4a9a-95e9-0cf8ae7ce10c",
   "metadata": {},
   "source": [
    "#### Practical example"
   ]
  },
  {
   "cell_type": "code",
   "execution_count": 41,
   "id": "96f7a049-ac00-404e-8bcc-48e4713fe987",
   "metadata": {},
   "outputs": [],
   "source": [
    "#Looping through lists and dictionaries"
   ]
  },
  {
   "cell_type": "code",
   "execution_count": 43,
   "id": "6032dd9d-b8cd-44cd-981c-9874a22eeb69",
   "metadata": {},
   "outputs": [
    {
     "name": "stdout",
     "output_type": "stream",
     "text": [
      "apple\n",
      "banana\n",
      "cherry\n"
     ]
    }
   ],
   "source": [
    "#  1. Looping Through a List\n",
    "# use a for loop to go through each item in a list.\n",
    "\n",
    "fruits = [\"apple\", \"banana\", \"cherry\"]\n",
    "\n",
    "for fruit in fruits:\n",
    "    print(fruit)"
   ]
  },
  {
   "cell_type": "code",
   "execution_count": 45,
   "id": "a31565a8-26b0-4acf-8944-19420e9b277b",
   "metadata": {},
   "outputs": [
    {
     "name": "stdout",
     "output_type": "stream",
     "text": [
      "Index 0: apple\n",
      "Index 1: banana\n",
      "Index 2: cherry\n"
     ]
    }
   ],
   "source": [
    "#  2. Looping Through a List with Index\n",
    "# Use range() and len() to access both index and value:\n",
    "\n",
    "for i in range(len(fruits)):\n",
    "    print(f\"Index {i}: {fruits[i]}\")"
   ]
  },
  {
   "cell_type": "code",
   "execution_count": 47,
   "id": "adbba4dc-df03-49f6-b50a-93b438fe3f93",
   "metadata": {},
   "outputs": [
    {
     "name": "stdout",
     "output_type": "stream",
     "text": [
      "name : Alice\n",
      "age : 21\n",
      "grade : A\n"
     ]
    }
   ],
   "source": [
    "#  3. Looping Through a Dictionary\n",
    "# Use a for loop to access keys or key-value pairs.\n",
    "\n",
    "#  Loop Through Keys:\n",
    "\n",
    "student = {\"name\": \"Alice\", \"age\": 21, \"grade\": \"A\"}\n",
    "\n",
    "for key in student:\n",
    "    print(key, \":\", student[key])"
   ]
  },
  {
   "cell_type": "code",
   "execution_count": 49,
   "id": "428f296e-0d51-4c36-9e5c-fabcf42f4f6e",
   "metadata": {},
   "outputs": [
    {
     "name": "stdout",
     "output_type": "stream",
     "text": [
      "name = Alice\n",
      "age = 21\n",
      "grade = A\n"
     ]
    }
   ],
   "source": [
    "# Loop Through Key-Value Pairs:\n",
    "\n",
    "for key, value in student.items():\n",
    "    print(f\"{key} = {value}\")"
   ]
  },
  {
   "cell_type": "code",
   "execution_count": 53,
   "id": "a7e59286-bbbe-4d30-bdb3-69aa1ccd8bb3",
   "metadata": {},
   "outputs": [
    {
     "name": "stdout",
     "output_type": "stream",
     "text": [
      "0. apple\n",
      "1. banana\n",
      "2. cherry\n"
     ]
    }
   ],
   "source": [
    "#  4. Using enumerate() with Lists\n",
    "# enumerate() gives both index and value:\n",
    "\n",
    "for index, fruit in enumerate(fruits):\n",
    "    print(f\"{index}. {fruit}\")"
   ]
  },
  {
   "cell_type": "markdown",
   "id": "821d5611-3e50-44fa-96d9-00ff96bbe1e1",
   "metadata": {},
   "source": [
    "#### Exercise"
   ]
  },
  {
   "cell_type": "code",
   "execution_count": 57,
   "id": "9fe6ad1e-81ce-4c84-9d24-089b4e4d8dd1",
   "metadata": {},
   "outputs": [],
   "source": [
    "# Implement loops to calculate sums, factorials, and create patterns"
   ]
  },
  {
   "cell_type": "code",
   "execution_count": 63,
   "id": "5be64454-73cf-4607-b52f-35a1bd7d52a9",
   "metadata": {},
   "outputs": [
    {
     "name": "stdin",
     "output_type": "stream",
     "text": [
      "Enter a number:  10\n"
     ]
    },
    {
     "name": "stdout",
     "output_type": "stream",
     "text": [
      "Sum = 55\n"
     ]
    }
   ],
   "source": [
    "# 1. Calculate Sum of Numbers \n",
    "\n",
    "n = int(input(\"Enter a number: \"))\n",
    "total = 0\n",
    "\n",
    "for i in range(1, n + 1):\n",
    "    total += i\n",
    "\n",
    "print(\"Sum =\", total)\n"
   ]
  },
  {
   "cell_type": "code",
   "execution_count": 65,
   "id": "4c21074c-099a-4fd6-a1b5-04a3277a6866",
   "metadata": {},
   "outputs": [
    {
     "name": "stdin",
     "output_type": "stream",
     "text": [
      "Enter a number:  6\n"
     ]
    },
    {
     "name": "stdout",
     "output_type": "stream",
     "text": [
      "Factorial = 720\n"
     ]
    }
   ],
   "source": [
    " # 2. Calculate Factorial of a Number\n",
    "\n",
    "n = int(input(\"Enter a number: \"))\n",
    "factorial = 1\n",
    "\n",
    "for i in range(1, n + 1):\n",
    "    factorial *= i\n",
    "\n",
    "print(\"Factorial =\", factorial)"
   ]
  },
  {
   "cell_type": "code",
   "execution_count": 73,
   "id": "25c871b1-5675-4217-9cfa-e857e7b14c5e",
   "metadata": {},
   "outputs": [
    {
     "name": "stdin",
     "output_type": "stream",
     "text": [
      "Enter number of rows:  5\n"
     ]
    },
    {
     "name": "stdout",
     "output_type": "stream",
     "text": [
      "* \n",
      "* * \n",
      "* * * \n",
      "* * * * \n",
      "* * * * * \n"
     ]
    }
   ],
   "source": [
    "# 3. Create Star Patterns\n",
    "\n",
    "rows = int(input(\"Enter number of rows: \"))\n",
    "\n",
    "for i in range(1,rows+1):\n",
    "    for j in range(i):\n",
    "        print(\"*\",end= \" \")\n",
    "\n",
    "    print()"
   ]
  },
  {
   "cell_type": "markdown",
   "id": "a6854bce-1754-4c94-9853-0ca0cef5dac9",
   "metadata": {},
   "source": [
    "# Break,pass and continue statements"
   ]
  },
  {
   "cell_type": "markdown",
   "id": "9f48dfde-2587-4029-86b9-c83f795e272f",
   "metadata": {},
   "source": [
    "#### Practical example"
   ]
  },
  {
   "cell_type": "code",
   "execution_count": 91,
   "id": "e4ec5b36-b7dd-425e-86ab-81b7d76da42b",
   "metadata": {},
   "outputs": [],
   "source": [
    "#Nested loops and conditional logic"
   ]
  },
  {
   "cell_type": "code",
   "execution_count": 93,
   "id": "28536271-c100-448e-99d1-4f78931e3258",
   "metadata": {},
   "outputs": [
    {
     "name": "stdout",
     "output_type": "stream",
     "text": [
      "* \n",
      "* 2 \n",
      "* 2 * \n",
      "* 2 * 4 \n",
      "* 2 * 4 * \n"
     ]
    }
   ],
   "source": [
    "for i in range(1, 6):         # Rows 1 to 5\n",
    "    for j in range(1, i + 1): # Columns in each row\n",
    "        if j % 2 == 0:\n",
    "            print(j, end=\" \")\n",
    "        else:\n",
    "            print(\"*\", end=\" \")\n",
    "    print()"
   ]
  },
  {
   "cell_type": "code",
   "execution_count": 17,
   "id": "dc17841b-13f2-42c4-9489-809153315686",
   "metadata": {},
   "outputs": [
    {
     "name": "stdout",
     "output_type": "stream",
     "text": [
      "1\t2\t3\t4\t5\t6\t7\t8\t9\t10\t\n",
      "2\t4\t6\t8\t10\t12\t14\t16\t18\t20\t\n",
      "3\t6\t9\t12\t15\t18\t21\t24\t27\t30\t\n",
      "4\t8\t12\t16\t20\t24\t28\t32\t36\t40\t\n",
      "5\t10\t15\t20\t25\t30\t35\t40\t45\t50\t\n",
      "6\t12\t18\t24\t30\t36\t42\t48\t54\t60\t\n",
      "7\t14\t21\t28\t35\t42\t49\t56\t63\t70\t\n",
      "8\t16\t24\t32\t40\t48\t56\t64\t72\t80\t\n",
      "9\t18\t27\t36\t45\t54\t63\t72\t81\t90\t\n",
      "10\t20\t30\t40\t50\t60\t70\t80\t90\t100\t\n"
     ]
    }
   ],
   "source": [
    " # Multiplication Table\n",
    "\n",
    "for i in range(1, 11):             # Outer loop for rows\n",
    "    for j in range(1, 11):        # Inner loop for each table\n",
    "        print(i * j, end=\"\\t\")\n",
    "    print()   "
   ]
  },
  {
   "cell_type": "markdown",
   "id": "b56b7179-a619-4aaa-9ab1-6cf6db7f778e",
   "metadata": {},
   "source": [
    "#### Exercise"
   ]
  },
  {
   "cell_type": "code",
   "execution_count": 20,
   "id": "b1fa080f-d9ab-42af-a3f2-df4fadf44622",
   "metadata": {},
   "outputs": [],
   "source": [
    "# Use loops to iterate through dictionary values"
   ]
  },
  {
   "cell_type": "code",
   "execution_count": 22,
   "id": "3709daf4-7c88-453f-88e1-57c4cfcd21a0",
   "metadata": {},
   "outputs": [
    {
     "name": "stdout",
     "output_type": "stream",
     "text": [
      "name : Alice\n",
      "age : 21\n",
      "grade : A\n"
     ]
    }
   ],
   "source": [
    "student = {\"name\": \"Alice\", \"age\": 21, \"grade\": \"A\"}\n",
    "\n",
    "for key in student:\n",
    "    print(key, \":\", student[key])"
   ]
  },
  {
   "cell_type": "code",
   "execution_count": 24,
   "id": "88f8c0ee-1d14-4639-848d-375cf4b699e3",
   "metadata": {},
   "outputs": [
    {
     "name": "stdout",
     "output_type": "stream",
     "text": [
      "Alice\n",
      "21\n",
      "A\n"
     ]
    }
   ],
   "source": [
    "for value in student.values():\n",
    "    print(value)"
   ]
  },
  {
   "cell_type": "code",
   "execution_count": null,
   "id": "248ed94b-b82d-411d-9942-46226c1c1b24",
   "metadata": {},
   "outputs": [],
   "source": []
  }
 ],
 "metadata": {
  "kernelspec": {
   "display_name": "Python 3 (ipykernel)",
   "language": "python",
   "name": "python3"
  },
  "language_info": {
   "codemirror_mode": {
    "name": "ipython",
    "version": 3
   },
   "file_extension": ".py",
   "mimetype": "text/x-python",
   "name": "python",
   "nbconvert_exporter": "python",
   "pygments_lexer": "ipython3",
   "version": "3.11.7"
  }
 },
 "nbformat": 4,
 "nbformat_minor": 5
}
