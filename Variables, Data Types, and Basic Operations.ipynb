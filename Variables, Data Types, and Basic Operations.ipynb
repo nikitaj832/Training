{
 "cells": [
  {
   "cell_type": "markdown",
   "id": "dda9deed-303e-493c-99d5-c201a27825a3",
   "metadata": {},
   "source": [
    "# Variables and their importance"
   ]
  },
  {
   "cell_type": "markdown",
   "id": "2db818a6-cf6f-46bc-9f87-bf9179b0669c",
   "metadata": {},
   "source": [
    "#### Practical example"
   ]
  },
  {
   "cell_type": "code",
   "execution_count": 5,
   "id": "3dd625e2-1037-429e-b877-a4bb3f9824ad",
   "metadata": {},
   "outputs": [],
   "source": [
    "# Assigning and modifying variables"
   ]
  },
  {
   "cell_type": "code",
   "execution_count": 7,
   "id": "8ede599d-19ca-4604-b828-e881ddfb18de",
   "metadata": {},
   "outputs": [],
   "source": [
    "#1. Assigning Variables\n",
    "# Assigning means giving a value to a variable.\n",
    "x = 10       # assigns the value 10 to variable x\n",
    "name = \"John\"  # assigns the string \"John\" to variable name"
   ]
  },
  {
   "cell_type": "code",
   "execution_count": 9,
   "id": "47c53401-b38c-48bf-8447-b950650df54d",
   "metadata": {},
   "outputs": [],
   "source": [
    "# 2. Modifying Variables\n",
    "# Modifying means changing the value of an existing variable.\n",
    "x = 10\n",
    "x = x + 5    # Now x becomes 15"
   ]
  },
  {
   "cell_type": "code",
   "execution_count": 11,
   "id": "40ead247-7603-4456-bfcf-1a0060dd9c7f",
   "metadata": {},
   "outputs": [],
   "source": [
    "x += 5    # Same as x = x + 5\n",
    "x -= 3    # Same as x = x - 3\n",
    "x *= 2    # Same as x = x * 2\n",
    "x /= 4    # Same as x = x / 4"
   ]
  },
  {
   "cell_type": "code",
   "execution_count": 13,
   "id": "9fee669e-b5b1-453c-8775-0e1fce90a77a",
   "metadata": {},
   "outputs": [],
   "source": [
    "# 3. Multiple Assignment \n",
    "# assign multiple variables at once:\n",
    "\n",
    "a, b, c = 1, 2, 3\n",
    "x = y = z = 0"
   ]
  },
  {
   "cell_type": "code",
   "execution_count": 15,
   "id": "d225d467-bc59-49b4-ae37-1ae5bb776260",
   "metadata": {},
   "outputs": [],
   "source": [
    "#  4. Variable Reassignment\n",
    "# A variable can change its value and type (in dynamically typed):\n",
    "var = 5\n",
    "var = \"hello\"  # Now var holds a string"
   ]
  },
  {
   "cell_type": "code",
   "execution_count": 17,
   "id": "a16044b3-4b19-4a9e-b208-cdf87f2648cc",
   "metadata": {},
   "outputs": [],
   "source": [
    "# 5. Constants\n",
    "# Some variables are assigned once and never changed. These are called constants (usually written in uppercase):\n",
    "PI = 3.14159"
   ]
  },
  {
   "cell_type": "markdown",
   "id": "02721614-0e75-4b3a-b5f1-b2d5de282a47",
   "metadata": {},
   "source": [
    "#### EXERCISE"
   ]
  },
  {
   "cell_type": "code",
   "execution_count": 20,
   "id": "83c624a7-2b3d-4910-ad7d-b3b1e8fee2da",
   "metadata": {},
   "outputs": [],
   "source": [
    "#Simple arithmetic and string manipulations"
   ]
  },
  {
   "cell_type": "code",
   "execution_count": 22,
   "id": "4a87f6da-c978-420d-b250-b3678d22f0e8",
   "metadata": {},
   "outputs": [
    {
     "name": "stdout",
     "output_type": "stream",
     "text": [
      "13\n",
      "30\n",
      "1\n"
     ]
    }
   ],
   "source": [
    "#  1. Simple Arithmetic\n",
    "# basic operations using numbers.\n",
    "\n",
    "a = 10\n",
    "b = 3\n",
    "\n",
    "print(a + b)   # 13\n",
    "print(a * b)   # 30\n",
    "print(a % b)   # 1"
   ]
  },
  {
   "cell_type": "code",
   "execution_count": 24,
   "id": "8bff6361-1cf7-4d58-a09f-780ab111030f",
   "metadata": {},
   "outputs": [
    {
     "name": "stdout",
     "output_type": "stream",
     "text": [
      "Hello World\n"
     ]
    }
   ],
   "source": [
    "#  2. String Manipulations\n",
    "# Concatenation (Joining Strings):\n",
    "first = \"Hello\"\n",
    "last = \"World\"\n",
    "greeting = first + \" \" + last\n",
    "print(greeting)   # Hello World"
   ]
  },
  {
   "cell_type": "code",
   "execution_count": 26,
   "id": "7077cd25-d7b9-436c-8289-5a80eca3aa98",
   "metadata": {},
   "outputs": [
    {
     "name": "stdout",
     "output_type": "stream",
     "text": [
      "Hi! Hi! Hi! \n"
     ]
    }
   ],
   "source": [
    "# Repetition:\n",
    "echo = \"Hi! \" * 3\n",
    "print(echo)       # Hi! Hi! Hi!"
   ]
  },
  {
   "cell_type": "code",
   "execution_count": 28,
   "id": "a6bbf7e5-6cbf-47df-ac58-037b745bbb42",
   "metadata": {},
   "outputs": [
    {
     "name": "stdout",
     "output_type": "stream",
     "text": [
      "P\n",
      "n\n"
     ]
    }
   ],
   "source": [
    "#Indexing:\n",
    "text = \"Python\"\n",
    "print(text[0])    # 'P'\n",
    "print(text[-1])   # 'n'"
   ]
  },
  {
   "cell_type": "code",
   "execution_count": 30,
   "id": "894ead1e-aa93-4dca-b714-85edd36f6f2a",
   "metadata": {},
   "outputs": [
    {
     "name": "stdout",
     "output_type": "stream",
     "text": [
      "yth\n",
      "Pyt\n",
      "hon\n"
     ]
    }
   ],
   "source": [
    "# Slicing:\n",
    "\n",
    "print(text[1:4])  # 'yth'\n",
    "print(text[:3])   # 'Pyt'\n",
    "print(text[3:])   # 'hon'"
   ]
  },
  {
   "cell_type": "code",
   "execution_count": 32,
   "id": "a60dd216-329a-4239-88d5-0aca5379bf96",
   "metadata": {},
   "outputs": [
    {
     "name": "stdout",
     "output_type": "stream",
     "text": [
      "ALICE\n",
      "Alice\n"
     ]
    }
   ],
   "source": [
    "# Changing Case:\n",
    "name = \"alice\"\n",
    "print(name.upper())  # 'ALICE'\n",
    "print(name.capitalize())  # 'Alice'"
   ]
  },
  {
   "cell_type": "code",
   "execution_count": 34,
   "id": "9da534cf-3d6d-4d87-bcac-51cd7d789c5d",
   "metadata": {},
   "outputs": [
    {
     "name": "stdout",
     "output_type": "stream",
     "text": [
      "I like coding\n",
      "7\n"
     ]
    }
   ],
   "source": [
    "#Finding & Replacing:\n",
    "msg = \"I love coding\"\n",
    "print(msg.replace(\"love\", \"like\"))  # I like coding\n",
    "print(msg.find(\"coding\"))  # 7 (starting index)"
   ]
  },
  {
   "cell_type": "code",
   "execution_count": 36,
   "id": "69fd6ee4-d90a-45b2-a174-c73f205275cc",
   "metadata": {},
   "outputs": [
    {
     "name": "stdout",
     "output_type": "stream",
     "text": [
      "26\n",
      "Score: 10\n"
     ]
    }
   ],
   "source": [
    "# Converting Between Strings and Numbers\n",
    "age = \"25\"\n",
    "new_age = int(age) + 1\n",
    "print(new_age)  # 26\n",
    "\n",
    "num = 10\n",
    "print(\"Score: \" + str(num))  # Score: 10"
   ]
  },
  {
   "cell_type": "markdown",
   "id": "34f82a78-9dcf-4753-813b-8fbe83417c9b",
   "metadata": {},
   "source": [
    "# Data types: int, float, string, list, dict"
   ]
  },
  {
   "cell_type": "markdown",
   "id": "f6b35ece-abe6-47ed-8e8b-91010d492721",
   "metadata": {},
   "source": [
    "#### Practical example"
   ]
  },
  {
   "cell_type": "code",
   "execution_count": 40,
   "id": "3736f8e1-e15d-416d-89cf-c5f25d3979d5",
   "metadata": {},
   "outputs": [],
   "source": [
    "# Performing operations with integers, floats, and strings"
   ]
  },
  {
   "cell_type": "code",
   "execution_count": 42,
   "id": "a5169ac1-8b0a-4124-9c69-e21382b795bd",
   "metadata": {},
   "outputs": [
    {
     "name": "stdout",
     "output_type": "stream",
     "text": [
      "13\n",
      "7\n",
      "30\n",
      "3.3333333333333335\n",
      "3\n",
      "1\n",
      "1000\n"
     ]
    }
   ],
   "source": [
    "# 1. Operations with Integers (int)\n",
    "# Integers are whole numbers like 10, -5, 100.\n",
    "a = 10\n",
    "b = 3\n",
    "\n",
    "print(a + b)    # 13 (addition)\n",
    "print(a - b)    # 7  (subtraction)\n",
    "print(a * b)    # 30 (multiplication)\n",
    "print(a / b)    # 3.333... (division → float)\n",
    "print(a // b)   # 3 (floor division)\n",
    "print(a % b)    # 1 (modulus: remainder)\n",
    "print(a ** b)   # 1000 (exponentiation: 10^3)"
   ]
  },
  {
   "cell_type": "code",
   "execution_count": 44,
   "id": "ccb3fdf7-f94e-4446-be07-bdace66a3100",
   "metadata": {},
   "outputs": [
    {
     "name": "stdout",
     "output_type": "stream",
     "text": [
      "7.5\n",
      "3.5\n",
      "11.0\n",
      "2.75\n",
      "2.0\n",
      "1.5\n",
      "30.25\n"
     ]
    }
   ],
   "source": [
    "# 2. Operations with Floats (float)\n",
    "# Floats are decimal numbers like 3.14, -2.5.\n",
    "x = 5.5\n",
    "y = 2.0\n",
    "\n",
    "print(x + y)    # 7.5\n",
    "print(x - y)    # 3.5\n",
    "print(x * y)    # 11.0\n",
    "print(x / y)    # 2.75\n",
    "print(x // y)   # 2.0 (floor division)\n",
    "print(x % y)    # 1.5\n",
    "print(x ** y)   # 30.25 (5.5^2.0)"
   ]
  },
  {
   "cell_type": "code",
   "execution_count": 46,
   "id": "f6e03c75-e870-4c8c-83f9-8cae325018ab",
   "metadata": {},
   "outputs": [
    {
     "name": "stdout",
     "output_type": "stream",
     "text": [
      "Hello World\n",
      "Hi! Hi! Hi! \n",
      "n\n",
      "yth\n",
      "Pyt\n",
      "hon\n",
      "HELLO PYTHON\n",
      "hello world\n",
      "12\n"
     ]
    }
   ],
   "source": [
    "# 3. Operations with Strings (str)\n",
    "# Strings are sequences of characters in quotes like \"Hello\" or 'Python'.\n",
    "\n",
    "# String Concatenation (Joining)\n",
    "\n",
    "a = \"Hello\"\n",
    "b = \"World\"\n",
    "print(a + \" \" + b)\n",
    "\n",
    "# String Repetition\n",
    "\n",
    "print(\"Hi! \" * 3)\n",
    "\n",
    "# Accessing Characters (Indexing)\n",
    "\n",
    "text = \"Python\"     \n",
    "print(text[-1])  \n",
    "\n",
    "# Slicing Strings\n",
    "\n",
    "print(text[1:4])   # 'yth'\n",
    "print(text[:3])    # 'Pyt'\n",
    "print(text[3:])    # 'hon'\n",
    "\n",
    "# Useful String Methods\n",
    "\n",
    "msg = \"hello python\"\n",
    "print(msg.upper())        # 'HELLO PYTHON'\n",
    "print(msg.replace(\"python\", \"world\"))  # 'hello world'\n",
    "print(len(msg))  "
   ]
  },
  {
   "cell_type": "markdown",
   "id": "18a6548b-b4c2-4939-8228-6bc30f0f2ab8",
   "metadata": {},
   "source": [
    "#### EXERCISE"
   ]
  },
  {
   "cell_type": "code",
   "execution_count": 49,
   "id": "f69b1542-871c-4ca8-b993-71168dfbf976",
   "metadata": {},
   "outputs": [
    {
     "name": "stdout",
     "output_type": "stream",
     "text": [
      "Name: John Doe\n",
      "Age: 25\n",
      "Email: john.doe@example.com\n"
     ]
    }
   ],
   "source": [
    "# Create a dictionary to store personal details\n",
    "\n",
    "# Creating a dictionary\n",
    "personal_details = {\n",
    "    \"name\": \"John Doe\",\n",
    "    \"age\": 25,\n",
    "    \"email\": \"john.doe@example.com\",\n",
    "    \"phone\": \"9876543210\",\n",
    "    \"city\": \"New York\"\n",
    "}\n",
    "\n",
    "# Accessing values\n",
    "print(\"Name:\", personal_details[\"name\"])\n",
    "print(\"Age:\", personal_details[\"age\"])\n",
    "print(\"Email:\", personal_details[\"email\"])"
   ]
  },
  {
   "cell_type": "code",
   "execution_count": 51,
   "id": "57572fdf-c4dc-4b69-b5f5-2cbaa434d38c",
   "metadata": {},
   "outputs": [
    {
     "name": "stdout",
     "output_type": "stream",
     "text": [
      "{'name': 'John Doe', 'age': 26, 'email': 'john.doe@example.com', 'phone': '9876543210', 'city': 'New York', 'country': 'USA'}\n"
     ]
    }
   ],
   "source": [
    "# Adding or Modifying Details\n",
    "\n",
    "# Modify existing value\n",
    "personal_details[\"age\"] = 26\n",
    "\n",
    "# Add new key-value pair\n",
    "personal_details[\"country\"] = \"USA\"\n",
    "\n",
    "# Print updated dictionary\n",
    "print(personal_details)\n"
   ]
  },
  {
   "cell_type": "code",
   "execution_count": 53,
   "id": "8efd5f91-21d8-4388-8b56-36e5eb08ac40",
   "metadata": {},
   "outputs": [
    {
     "name": "stdout",
     "output_type": "stream",
     "text": [
      "dict_keys(['name', 'age', 'email', 'phone', 'city', 'country'])\n",
      "dict_values(['John Doe', 26, 'john.doe@example.com', '9876543210', 'New York', 'USA'])\n",
      "dict_items([('name', 'John Doe'), ('age', 26), ('email', 'john.doe@example.com'), ('phone', '9876543210'), ('city', 'New York'), ('country', 'USA')])\n"
     ]
    }
   ],
   "source": [
    "# Useful Dictionary Methods\n",
    "\n",
    "print(personal_details.keys())     # View all keys\n",
    "print(personal_details.values())   # View all values\n",
    "print(personal_details.items())    # View key-value pairs"
   ]
  },
  {
   "cell_type": "markdown",
   "id": "708d2830-c3a3-4dcb-8913-65ac3c20fe24",
   "metadata": {},
   "source": [
    "# Typecasting (conversions between types)"
   ]
  },
  {
   "cell_type": "markdown",
   "id": "6199b662-7967-4887-b771-aa58a62e5021",
   "metadata": {},
   "source": [
    "#### Practical example"
   ]
  },
  {
   "cell_type": "code",
   "execution_count": 57,
   "id": "5afb7d78-6173-42f1-a734-cce1d17db43c",
   "metadata": {},
   "outputs": [],
   "source": [
    "# Creating and accessing elements in lists and dictionaries"
   ]
  },
  {
   "cell_type": "code",
   "execution_count": 59,
   "id": "4dbebf56-8057-451d-ab1a-f750c646ba91",
   "metadata": {},
   "outputs": [],
   "source": [
    "#  1. Lists in Python\n",
    "# A list is an ordered collection that can hold items of any data type."
   ]
  },
  {
   "cell_type": "code",
   "execution_count": 61,
   "id": "23c549da-0a70-4a9a-893c-cc5a85e7bd91",
   "metadata": {},
   "outputs": [],
   "source": [
    "#Creating a List\n",
    "# List of strings\n",
    "fruits = [\"apple\", \"banana\", \"cherry\"]\n",
    "\n",
    "# List of numbers\n",
    "numbers = [1, 2, 3, 4, 5]\n",
    "\n",
    "# Mixed data types\n",
    "person = [\"Alice\", 25, \"Engineer\"]"
   ]
  },
  {
   "cell_type": "code",
   "execution_count": 63,
   "id": "a1c87262-f979-497b-bbb3-b67d261b68d6",
   "metadata": {},
   "outputs": [
    {
     "name": "stdout",
     "output_type": "stream",
     "text": [
      "apple\n",
      "banana\n",
      "cherry\n"
     ]
    }
   ],
   "source": [
    "# Accessing List Elements\n",
    "print(fruits[0])    # 'apple'\n",
    "print(fruits[1])    # 'banana'\n",
    "print(fruits[-1])   "
   ]
  },
  {
   "cell_type": "code",
   "execution_count": 65,
   "id": "206dfd23-2eb9-4f24-a6c4-092c4f362e66",
   "metadata": {},
   "outputs": [
    {
     "name": "stdout",
     "output_type": "stream",
     "text": [
      "['apple', 'orange', 'cherry']\n"
     ]
    }
   ],
   "source": [
    "#Modifying List Elements\n",
    "fruits[1] = \"orange\"\n",
    "print(fruits)  # ['apple', 'orange', 'cherry']"
   ]
  },
  {
   "cell_type": "code",
   "execution_count": 67,
   "id": "505d2aaa-f7d0-4134-8f1b-51bf9dda145d",
   "metadata": {},
   "outputs": [
    {
     "name": "stdout",
     "output_type": "stream",
     "text": [
      "['kiwi', 'orange', 'cherry', 'grape']\n"
     ]
    }
   ],
   "source": [
    "#List Operations\n",
    "fruits.append(\"grape\")         # Add to end\n",
    "fruits.insert(1, \"kiwi\")       # Insert at index 1\n",
    "fruits.remove(\"apple\")         # Remove by value\n",
    "print(fruits)"
   ]
  },
  {
   "cell_type": "code",
   "execution_count": 69,
   "id": "b33a282e-660b-48fe-ab9c-a05255c5841e",
   "metadata": {},
   "outputs": [],
   "source": [
    "#2. Dictionaries in Python\n",
    "# A dictionary is an unordered collection of key-value pairs."
   ]
  },
  {
   "cell_type": "code",
   "execution_count": 71,
   "id": "7799299d-ebc5-43e0-8e97-554c582843a9",
   "metadata": {},
   "outputs": [],
   "source": [
    "#Creating a Dictionary\n",
    "student = {\n",
    "    \"name\": \"Rahul\",\n",
    "    \"age\": 21,\n",
    "    \"branch\": \"Computer Science\"\n",
    "}"
   ]
  },
  {
   "cell_type": "code",
   "execution_count": 73,
   "id": "4cc4103c-b307-4ed8-8d7a-07fceb7081f4",
   "metadata": {},
   "outputs": [
    {
     "name": "stdout",
     "output_type": "stream",
     "text": [
      "Rahul\n",
      "21\n"
     ]
    }
   ],
   "source": [
    "#Accessing Dictionary Elements\n",
    "print(student[\"name\"])      # 'Rahul'\n",
    "print(student.get(\"age\"))   # 21\n"
   ]
  },
  {
   "cell_type": "code",
   "execution_count": 75,
   "id": "f0f58a32-7890-405f-a93c-4155443c221f",
   "metadata": {},
   "outputs": [
    {
     "name": "stdout",
     "output_type": "stream",
     "text": [
      "{'name': 'Rahul', 'age': 22, 'branch': 'Computer Science', 'email': 'rahul@example.com'}\n"
     ]
    }
   ],
   "source": [
    "# Modifying and Adding Elements\n",
    "student[\"age\"] = 22               # Modify existing\n",
    "student[\"email\"] = \"rahul@example.com\"  # Add new key\n",
    "print(student)"
   ]
  },
  {
   "cell_type": "code",
   "execution_count": 77,
   "id": "7f6ca1c1-00cc-4409-a21c-ea021381cf8f",
   "metadata": {},
   "outputs": [
    {
     "name": "stdout",
     "output_type": "stream",
     "text": [
      "dict_keys(['name', 'age', 'branch', 'email'])\n",
      "dict_values(['Rahul', 22, 'Computer Science', 'rahul@example.com'])\n",
      "dict_items([('name', 'Rahul'), ('age', 22), ('branch', 'Computer Science'), ('email', 'rahul@example.com')])\n"
     ]
    }
   ],
   "source": [
    "# Dictionary Operations\n",
    "\n",
    "print(student.keys())      # dict_keys(['name', 'age', 'branch', 'email'])\n",
    "print(student.values())    # dict_values([...])\n",
    "print(student.items())     # dict_items([...])\n"
   ]
  },
  {
   "cell_type": "code",
   "execution_count": 79,
   "id": "1b82ef6e-ad34-4d19-b0bf-632a13f95b49",
   "metadata": {},
   "outputs": [
    {
     "name": "stdout",
     "output_type": "stream",
     "text": [
      "Alice\n",
      "22\n"
     ]
    }
   ],
   "source": [
    "#List of Dictionaries \n",
    "students = [\n",
    "    {\"name\": \"Alice\", \"age\": 20},\n",
    "    {\"name\": \"Bob\", \"age\": 22}\n",
    "]\n",
    "\n",
    "print(students[0][\"name\"])  # Alice\n",
    "print(students[1][\"age\"])   # 22\n"
   ]
  },
  {
   "cell_type": "markdown",
   "id": "1585434a-c746-4d18-93ee-caef59f1ed09",
   "metadata": {},
   "source": [
    "#### Exercise"
   ]
  },
  {
   "cell_type": "code",
   "execution_count": 121,
   "id": "c1e06167-ffa4-4271-ab1b-178686ffaa4b",
   "metadata": {},
   "outputs": [],
   "source": [
    "# Convert data types (e.g., string to integer)"
   ]
  },
  {
   "cell_type": "code",
   "execution_count": 81,
   "id": "8bc64ed5-cc09-440f-9bbc-3cfac1dcd19b",
   "metadata": {},
   "outputs": [
    {
     "name": "stdout",
     "output_type": "stream",
     "text": [
      "30\n"
     ]
    }
   ],
   "source": [
    " #1. String to Integer\n",
    "\n",
    "age_str = \"25\"\n",
    "age_int = int(age_str)      # Convert string to int\n",
    "\n",
    "print(age_int + 5)          # 30"
   ]
  },
  {
   "cell_type": "code",
   "execution_count": 83,
   "id": "94ca9690-8ab2-4282-830f-78d99bc62477",
   "metadata": {},
   "outputs": [
    {
     "name": "stdout",
     "output_type": "stream",
     "text": [
      "Your score is 90\n"
     ]
    }
   ],
   "source": [
    "# 2. Integer to String\n",
    "score = 90\n",
    "score_str = str(score)      # Convert int to string\n",
    "\n",
    "print(\"Your score is \" + score_str)  # Your score is 90\n"
   ]
  },
  {
   "cell_type": "code",
   "execution_count": 85,
   "id": "fd65f3cb-3b6f-4415-abfd-cf175b526b0e",
   "metadata": {},
   "outputs": [
    {
     "name": "stdout",
     "output_type": "stream",
     "text": [
      "24.99\n"
     ]
    }
   ],
   "source": [
    "# 3. String to Float\n",
    "price_str = \"19.99\"\n",
    "price_float = float(price_str)\n",
    "\n",
    "print(price_float + 5)      # 24.99\n"
   ]
  },
  {
   "cell_type": "code",
   "execution_count": 87,
   "id": "d9f7590f-a58b-456f-af42-94b5446338b6",
   "metadata": {},
   "outputs": [
    {
     "name": "stdout",
     "output_type": "stream",
     "text": [
      "3\n"
     ]
    }
   ],
   "source": [
    "# 4. Float to Integer (removes decimal part)\n",
    "value = 3.75\n",
    "value_int = int(value)\n",
    "\n",
    "print(value_int)            "
   ]
  },
  {
   "cell_type": "code",
   "execution_count": 93,
   "id": "5a0ec12e-198f-43a2-a3ec-fd4fef2d615c",
   "metadata": {},
   "outputs": [
    {
     "name": "stdout",
     "output_type": "stream",
     "text": [
      "10.0\n"
     ]
    }
   ],
   "source": [
    "# 5. Integer to Float\n",
    "\n",
    "num = 10\n",
    "num_float = float(num)\n",
    "\n",
    "print(num_float) "
   ]
  },
  {
   "cell_type": "code",
   "execution_count": 95,
   "id": "bae88d88-e964-4eda-b97f-5bc3f1cf3f81",
   "metadata": {},
   "outputs": [
    {
     "name": "stdout",
     "output_type": "stream",
     "text": [
      "1\n",
      "True\n"
     ]
    }
   ],
   "source": [
    " # 6. Boolean to Integer/String\n",
    "flag = True\n",
    "print(int(flag))            \n",
    "print(str(flag)) "
   ]
  },
  {
   "cell_type": "code",
   "execution_count": null,
   "id": "65fcc7d4-c42f-46c5-b056-4e692e138149",
   "metadata": {},
   "outputs": [],
   "source": []
  },
  {
   "cell_type": "code",
   "execution_count": null,
   "id": "1781d2b4-53d3-4955-ac8d-e3e48e146130",
   "metadata": {},
   "outputs": [],
   "source": []
  },
  {
   "cell_type": "code",
   "execution_count": null,
   "id": "9b09056c-e803-43bb-9ff3-be04ec9828dc",
   "metadata": {},
   "outputs": [],
   "source": []
  }
 ],
 "metadata": {
  "kernelspec": {
   "display_name": "Python 3 (ipykernel)",
   "language": "python",
   "name": "python3"
  },
  "language_info": {
   "codemirror_mode": {
    "name": "ipython",
    "version": 3
   },
   "file_extension": ".py",
   "mimetype": "text/x-python",
   "name": "python",
   "nbconvert_exporter": "python",
   "pygments_lexer": "ipython3",
   "version": "3.11.7"
  }
 },
 "nbformat": 4,
 "nbformat_minor": 5
}
